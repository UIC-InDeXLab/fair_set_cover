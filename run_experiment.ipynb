{
 "cells": [
  {
   "cell_type": "code",
   "execution_count": 2,
   "metadata": {},
   "outputs": [],
   "source": [
    "import sys\n",
    "sys.path.insert(1, \"./\")\n",
    "\n",
    "from algorithms import *\n",
    "\n",
    "import pandas as pd\n",
    "import numpy as np\n",
    "import copy\n",
    "import itertools\n",
    "import os\n",
    "import gc\n",
    "import time\n",
    "import matplotlib.pyplot as plt\n",
    "import seaborn as sns\n",
    "import random\n",
    "from scipy.optimize import linprog\n",
    "import math\n",
    "import scipy.stats\n",
    "from scipy.spatial import KDTree\n",
    "import tqdm\n",
    "import re"
   ]
  },
  {
   "cell_type": "markdown",
   "metadata": {},
   "source": [
    "An example definition of the set system:"
   ]
  },
  {
   "cell_type": "code",
   "execution_count": null,
   "metadata": {},
   "outputs": [],
   "source": [
    "n = 5 # Size of ground set U = {0, 1, 2, ..., n}\n",
    "sets = [\n",
    "    {0, 1},\n",
    "    {0, 2},\n",
    "    {0, 3},\n",
    "    {0, 4},\n",
    "    {0, 4, 1},\n",
    "    {0, 1}\n",
    "]\n",
    "colors = [0, 0, 1, 1, 1, 1] # 0 --> red, 1 --> blue\n",
    "m = len(sets) # Number of sets"
   ]
  },
  {
   "cell_type": "markdown",
   "metadata": {},
   "source": [
    "However, we need to read from a dataset and preprocess and create the variables `sets`, `colors`, etc from the csv file."
   ]
  },
  {
   "cell_type": "markdown",
   "metadata": {},
   "source": [
    "Example on Adults dataset:"
   ]
  },
  {
   "cell_type": "code",
   "execution_count": 7,
   "metadata": {},
   "outputs": [
    {
     "data": {
      "text/plain": [
       "((48842, 15),\n",
       " gender\n",
       " Male      32650\n",
       " Female    16192\n",
       " Name: count, dtype: int64)"
      ]
     },
     "execution_count": 7,
     "metadata": {},
     "output_type": "execute_result"
    }
   ],
   "source": [
    "data = pd.read_csv(\"dataset/adult.csv\")\n",
    "\n",
    "data.shape, data[\"gender\"].value_counts()"
   ]
  },
  {
   "cell_type": "markdown",
   "metadata": {},
   "source": [
    "Sample a speicfic amount of data to work on:"
   ]
  },
  {
   "cell_type": "code",
   "execution_count": 8,
   "metadata": {},
   "outputs": [],
   "source": [
    "df = data.sample(n=4000)"
   ]
  },
  {
   "cell_type": "markdown",
   "metadata": {},
   "source": [
    "Now, we define the columns that we want to cover, by choosing a subset of rows. \n",
    "\n",
    "For example, we want our subset (of rows) to cover both `<=50k` and `>50k` values from the column `income`."
   ]
  },
  {
   "cell_type": "code",
   "execution_count": 10,
   "metadata": {},
   "outputs": [],
   "source": [
    "cover_columns = {\n",
    "    \"workclass\": [\"Private\", \"Self-emp-not-inc\", \"Local-gov\", \"State-gov\", \"Self-emp-inc\", \"Federal-gov\"], \n",
    "    \"education\": [\"HS-grad\", \"Some-college\", \"Bachelors\", \"Masters\", \"Assoc-voc\", \"11th\", \"Assoc-acdm\", \"10th\", \"7th-8th\"], \n",
    "    \"marital-status\": [\"Married-civ-spouse\", \"Never-married\", \"Divorced\", \"Widowed\"], \n",
    "    \"occupation\": [\"Craft-repair\", \"Adm-clerical\", \"Prof-specialty\", \"Exec-managerial\", \"Sales\", \"Other-service\", \"Machine-op-inspct\", \"Transport-moving\"], \n",
    "    \"income\": [\"<=50K\", \">50K\"]\n",
    "}"
   ]
  },
  {
   "cell_type": "markdown",
   "metadata": {},
   "source": [
    "In the following step, we create the `sets` and `colors` variables to pass to our implemented algorithms."
   ]
  },
  {
   "cell_type": "code",
   "execution_count": 11,
   "metadata": {},
   "outputs": [
    {
     "name": "stdout",
     "output_type": "stream",
     "text": [
      "29\n"
     ]
    }
   ],
   "source": [
    "# Each column value acts like a points in the set systems\n",
    "points = []\n",
    "for k in cover_columns.keys():\n",
    "    points += cover_columns[k]\n",
    "print(len(points))"
   ]
  },
  {
   "cell_type": "markdown",
   "metadata": {},
   "source": [
    "**Note:** We use the index of a point (value) to specify a point in our point system. In other words, `X = [0, 1, ..., len(points) - 1]`.\n",
    "\n",
    "Here `X` is the set of points."
   ]
  },
  {
   "cell_type": "code",
   "execution_count": 13,
   "metadata": {},
   "outputs": [
    {
     "data": {
      "text/plain": [
       "(4000, 4000)"
      ]
     },
     "execution_count": 13,
     "metadata": {},
     "output_type": "execute_result"
    }
   ],
   "source": [
    "# Each row is a set in the set system\n",
    "def make_sets(df, cover_columns, points):\n",
    "    sets = []\n",
    "    colors = []\n",
    "    for _, row in df.iterrows():\n",
    "        this_set = []\n",
    "        for col in cover_columns.keys():\n",
    "            if row[col] in points:\n",
    "                this_set.append(points.index(row[col]))\n",
    "        sets.append(set(this_set))\n",
    "        colors.append(1 if row[\"gender\"] == \"Male\" else 0)\n",
    "    return sets, colors\n",
    "\n",
    "# The variables 'sets' and 'colors'\n",
    "sets, colors = make_sets(df, cover_columns, points)\n",
    "len(sets), len(colors)"
   ]
  },
  {
   "cell_type": "markdown",
   "metadata": {},
   "source": [
    "Look at the demographic groups distribution in this sample:"
   ]
  },
  {
   "cell_type": "code",
   "execution_count": 14,
   "metadata": {},
   "outputs": [
    {
     "data": {
      "text/plain": [
       "((array([0, 1]), array([1308, 2692])),\n",
       " gender\n",
       " Male      2692\n",
       " Female    1308\n",
       " Name: count, dtype: int64)"
      ]
     },
     "execution_count": 14,
     "metadata": {},
     "output_type": "execute_result"
    }
   ],
   "source": [
    "np.unique(np.array(colors), return_counts=True), df[\"gender\"].value_counts()"
   ]
  },
  {
   "cell_type": "markdown",
   "metadata": {},
   "source": [
    "## Run & Report"
   ]
  },
  {
   "cell_type": "code",
   "execution_count": null,
   "metadata": {},
   "outputs": [],
   "source": [
    "def run_with_time(func, *args):\n",
    "    start_time = time.time()\n",
    "    res = func(*args)\n",
    "    run_time = time.time() - start_time\n",
    "    return (res, run_time)\n",
    "\n",
    "def run_all(n, sets, colors):\n",
    "    results = {}\n",
    "\n",
    "    print(\"Running SC...\")\n",
    "    results[\"SC\"] = run_with_time(standard_set_cover, n, copy.deepcopy(sets))\n",
    "    print(\"Running Naive...\")\n",
    "    results[\"Naive\"] = run_with_time(naive_fair_set_cover, n, copy.deepcopy(sets), copy.deepcopy(colors))\n",
    "    print(\"Running AllPick...\")\n",
    "    results[\"AllPick\"] = run_with_time(all_pick_fair_set_cover, n, copy.deepcopy(sets), copy.deepcopy(colors))\n",
    "    print(\"Running EffAllPick...\")\n",
    "    results[\"EffAllPick\"] = run_with_time(efficient_pick_set_cover, n, copy.deepcopy(sets), copy.deepcopy(colors))\n",
    "\n",
    "    return results"
   ]
  },
  {
   "cell_type": "code",
   "execution_count": null,
   "metadata": {},
   "outputs": [],
   "source": [
    "RUN_PER_N = 5 # number of runs per `N`\n",
    "N = len(points)\n",
    "\n",
    "# Different set sizes. This will be used as the sample size from the Dataframe `data`.\n",
    "set_sizes = [1000, 2000, 3000, 4000, 5000]\n",
    "\n",
    "result_df_times = {\"SetSize\": [], \"SC\": [], \"Naive\": [], \"AllPick\": [], \"EffAllPick\": []}\n",
    "result_df_counts = {\"SetSize\": [], \"SC\": [], \"Naive\": [], \"AllPick\": [], \"EffAllPick\": []}\n",
    "result_df_fairness = {\"SetSize\": [], \"SC\": [], \"Naive\": [], \"AllPick\": [], \"EffAllPick\": []}\n",
    "\n",
    "for set_size in set_sizes:\n",
    "    for i in range(RUN_PER_N):\n",
    "        print(\"Preparing the sets\")\n",
    "        \n",
    "        df = data.sample(n=set_size)\n",
    "        sets, colors = make_sets(df, cover_columns, points)\n",
    "\n",
    "        print(\"Running...\")\n",
    "        \n",
    "        # Run\n",
    "        result = run_all(N, sets, colors)\n",
    "\n",
    "        print(f\"set_size = {set_size} in {set_sizes} : {i + 1} / {RUN_PER_N}\")\n",
    "\n",
    "        # Generate Result Dataframe\n",
    "        result_df_times[\"SetSize\"].append(set_size)\n",
    "        result_df_counts[\"SetSize\"].append(set_size)\n",
    "        result_df_fairness[\"SetSize\"].append(set_size)\n",
    "        for key in result:\n",
    "            result_df_times[key].append(result[key][1])\n",
    "            result_df_counts[key].append(len(result[key][0]))\n",
    "            tmp = np.unique([colors[c] for c in result[key][0]], return_counts=True)[1]\n",
    "            if len(tmp) == 1:\n",
    "                result_df_fairness[key].append(0)\n",
    "            else:\n",
    "                result_df_fairness[key].append(np.min(tmp) / np.max(tmp))\n",
    "\n",
    "\n",
    "result_df_times = pd.DataFrame(result_df_times)\n",
    "result_df_counts = pd.DataFrame(result_df_counts)\n",
    "result_df_fairness = pd.DataFrame(result_df_fairness)"
   ]
  }
 ],
 "metadata": {
  "kernelspec": {
   "display_name": "venv",
   "language": "python",
   "name": "python3"
  },
  "language_info": {
   "codemirror_mode": {
    "name": "ipython",
    "version": 3
   },
   "file_extension": ".py",
   "mimetype": "text/x-python",
   "name": "python",
   "nbconvert_exporter": "python",
   "pygments_lexer": "ipython3",
   "version": "3.11.1"
  }
 },
 "nbformat": 4,
 "nbformat_minor": 2
}
