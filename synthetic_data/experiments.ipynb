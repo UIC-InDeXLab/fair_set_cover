{
  "cells": [
    {
      "cell_type": "markdown",
      "metadata": {
        "id": "dF0II4xO-RJM"
      },
      "source": [
        "# Import & Config"
      ]
    },
    {
      "cell_type": "code",
      "execution_count": 1,
      "metadata": {
        "id": "rGUNchICqH6Y"
      },
      "outputs": [],
      "source": [
        "import pandas as pd\n",
        "import numpy as np\n",
        "import copy\n",
        "import itertools\n",
        "import os\n",
        "import gc\n",
        "import time\n",
        "import matplotlib.pyplot as plt\n",
        "import seaborn as sns\n",
        "import random\n",
        "from scipy.optimize import linprog\n",
        "import math\n",
        "import scipy.stats\n",
        "from scipy.spatial import KDTree\n",
        "import tqdm\n",
        "import re"
      ]
    },
    {
      "cell_type": "markdown",
      "metadata": {
        "id": "soI6PU1-jhM9"
      },
      "source": [
        "# Implementation Most Recent\n"
      ]
    },
    {
      "cell_type": "code",
      "execution_count": 2,
      "metadata": {
        "id": "PGEOmZ5n1HdL"
      },
      "outputs": [],
      "source": [
        "# Test Case\n",
        "n = 5 # Size of ground set U = {0, 1, 2, ..., n}\n",
        "sets = [\n",
        "    {0, 1},\n",
        "    {0, 2},\n",
        "    {0, 3},\n",
        "    {0, 4},\n",
        "    {0, 4, 1},\n",
        "    {0, 1}\n",
        "]\n",
        "colors = [0, 0, 1, 1, 1, 1] # 0 --> red, 1 --> blue\n",
        "m = len(sets) # Number of sets"
      ]
    },
    {
      "cell_type": "code",
      "execution_count": 3,
      "metadata": {
        "id": "mksqxWYAjj-V"
      },
      "outputs": [],
      "source": [
        "def get_point_to_set_hashmap(sets):\n",
        "    print(\"point -> set\")\n",
        "    point_to_sets = {}\n",
        "    for i, s in enumerate(tqdm.tqdm(sets)):\n",
        "        for point in s:\n",
        "            if point not in point_to_sets.keys():\n",
        "                point_to_sets[point] = []\n",
        "            point_to_sets[point].append(i)\n",
        "    return point_to_sets\n",
        "\n",
        "def get_color_to_set_hashmap(sets, colors):\n",
        "    print(\"color -> set\")\n",
        "    color_to_sets = {}\n",
        "    for i, s in enumerate(tqdm.tqdm(sets)):\n",
        "        if colors[i] not in color_to_sets.keys():\n",
        "            color_to_sets[colors[i]] = []\n",
        "        color_to_sets[colors[i]].append(i)\n",
        "    return color_to_sets"
      ]
    },
    {
      "cell_type": "markdown",
      "metadata": {
        "id": "3JImonlkjj-W"
      },
      "source": [
        "## Greedy Standard"
      ]
    },
    {
      "cell_type": "code",
      "execution_count": 4,
      "metadata": {
        "id": "lxjORE_ejj-W"
      },
      "outputs": [],
      "source": [
        "# Greedy\n",
        "def standard_set_cover(n, sets):\n",
        "    # Pre-process\n",
        "    sets = copy.deepcopy(sets)\n",
        "    point_to_sets = get_point_to_set_hashmap(sets)\n",
        "\n",
        "    cover = []\n",
        "    counter = 0\n",
        "\n",
        "    # Main Loop\n",
        "    while True:\n",
        "        print(f\"standard_set_cover set {counter + 1} / {len(sets)}\", end=\"\\r\")\n",
        "        counter += 1\n",
        "        # Find largest set\n",
        "        largest_set = np.argmax([len(s) for s in sets])\n",
        "\n",
        "        # Break if all points are covered\n",
        "        if len(sets[largest_set]) == 0:\n",
        "            break\n",
        "\n",
        "        # Add to cover\n",
        "        cover.append(largest_set)\n",
        "\n",
        "        # Remove covered ones\n",
        "        for covered_point in tqdm.tqdm(copy.deepcopy(sets[largest_set])):\n",
        "            for i in point_to_sets[covered_point]:\n",
        "                covered_point in sets[i] and sets[i].remove(covered_point)\n",
        "\n",
        "    return cover\n",
        "\n",
        "# standard_set_cover(n, sets)"
      ]
    },
    {
      "cell_type": "markdown",
      "metadata": {
        "id": "M81KwHq8jj-Y"
      },
      "source": [
        "## Naive Fair"
      ]
    },
    {
      "cell_type": "code",
      "execution_count": 5,
      "metadata": {
        "id": "H3T6zuq8jj-Y"
      },
      "outputs": [],
      "source": [
        "def naive_fair_set_cover(n, sets, colors):\n",
        "    # Pre-process\n",
        "    sets = copy.deepcopy(sets)\n",
        "    colors = copy.deepcopy(colors)\n",
        "    point_to_sets = get_point_to_set_hashmap(sets)\n",
        "    color_to_sets = get_color_to_set_hashmap(sets, colors)\n",
        "    unfair_cover = standard_set_cover(n, copy.deepcopy(sets))\n",
        "\n",
        "    # Add arbitrary sets from other colors\n",
        "    cover_colors, color_counts = np.unique([colors[s] for s in unfair_cover], return_counts=True)\n",
        "    max_color = max(color_counts)\n",
        "    for color in tqdm.tqdm(color_to_sets.keys()):\n",
        "        if color in cover_colors:\n",
        "            to_add = max_color - color_counts[cover_colors.tolist().index(color)]\n",
        "        else:\n",
        "            to_add = max_color\n",
        "\n",
        "        cand_sets = color_to_sets[color]\n",
        "        # print(f\"color: {color}, size: {len(cand_sets)}, to_add: {to_add}, cover_len: {len(unfair_cover)}\")\n",
        "        index = 0\n",
        "        while to_add > 0:\n",
        "            if cand_sets[index] not in unfair_cover:\n",
        "                unfair_cover.append(cand_sets[index])\n",
        "                to_add -= 1\n",
        "            index += 1\n",
        "\n",
        "    return unfair_cover\n",
        "\n",
        "# naive_fair_set_cover(n, sets, colors)"
      ]
    },
    {
      "cell_type": "markdown",
      "metadata": {
        "id": "qxOHl9g_jj-a"
      },
      "source": [
        "## All Pick"
      ]
    },
    {
      "cell_type": "code",
      "execution_count": 6,
      "metadata": {
        "colab": {
          "base_uri": "https://localhost:8080/"
        },
        "id": "RRJEEF5UkaYk",
        "outputId": "4cb0b394-ffc4-445e-fa4a-3413b6f6afbe"
      },
      "outputs": [
        {
          "name": "stdout",
          "output_type": "stream",
          "text": [
            "[0, 31, 28]\n"
          ]
        }
      ],
      "source": [
        "def permute(list, per, position, all):\n",
        "    if position == len(list):\n",
        "        all.append(per)\n",
        "    else:\n",
        "        for i in range(list[position]):\n",
        "            tmp = copy.deepcopy(per)\n",
        "            tmp[position] = i\n",
        "            permute(list, tmp, position + 1, all)\n",
        "\n",
        "final = []\n",
        "permute([39, 32, 29], [0, 0, 0], 0, final)\n",
        "print(final[29 * 31 + 20 + 8])"
      ]
    },
    {
      "cell_type": "code",
      "execution_count": 7,
      "metadata": {
        "id": "rfJOzPE2jj-b"
      },
      "outputs": [],
      "source": [
        "'''\n",
        "Find fair max cover by picking a pair at each step.\n",
        "Checks all possible pairs at each step.\n",
        "'''\n",
        "def all_pick_fair_set_cover(n, sets, colors):\n",
        "    # Pre-process\n",
        "    sets = copy.deepcopy(sets)\n",
        "    colors = copy.deepcopy(colors)\n",
        "    point_to_sets = get_point_to_set_hashmap(sets)\n",
        "    color_to_sets = get_color_to_set_hashmap(sets, colors)\n",
        "    cover = []\n",
        "    keys = [i for i in range(len(color_to_sets.keys()))]\n",
        "    sets_picked = [False for _ in range(len(sets))]\n",
        "\n",
        "    # Main Loop\n",
        "    while True:\n",
        "        # Find Largest Pair\n",
        "        max_union = len(set().union(*[sets[color_to_sets[key][0]] for key in keys]))\n",
        "        picked_pair = tuple([color_to_sets[key][0] for key in keys])\n",
        "\n",
        "        all_permutes = []\n",
        "        permute(\n",
        "            [len(color_to_sets[i]) for i in keys],\n",
        "            [0 for _ in keys],\n",
        "            0,\n",
        "            all_permutes\n",
        "        )\n",
        "\n",
        "        for pair in all_permutes:\n",
        "            union = len(set().union(*[sets[color_to_sets[i][j]] for i, j in enumerate(pair)]))\n",
        "            if union > max_union:\n",
        "                max_union = union\n",
        "                picked_pair = tuple([color_to_sets[i][j] for i, j in enumerate(pair)])\n",
        "\n",
        "        # Break if all points covered\n",
        "        if max_union == 0:\n",
        "            break\n",
        "\n",
        "        # Add to cover\n",
        "        cover += [*picked_pair]\n",
        "        for p in picked_pair:\n",
        "            sets_picked[p] = True\n",
        "\n",
        "        # Remove covered points\n",
        "        for p in picked_pair:\n",
        "            for covered_point in copy.deepcopy(sets[p]):\n",
        "                for i in point_to_sets[covered_point]:\n",
        "                    covered_point in sets[i] and sets[i].remove(covered_point)\n",
        "\n",
        "    return cover\n",
        "\n",
        "# all_pick_fair_set_cover(n, sets, colors)"
      ]
    },
    {
      "cell_type": "markdown",
      "metadata": {
        "id": "_Cykymiejj-c"
      },
      "source": [
        "## Efficient All Pick"
      ]
    },
    {
      "cell_type": "code",
      "execution_count": 8,
      "metadata": {
        "id": "nl6n--nIjj-d"
      },
      "outputs": [],
      "source": [
        "def approx_best_pair(sets, point_to_sets, color_to_sets, n, m, covered, sets_picked):\n",
        "    '''\n",
        "    max sum(y_j)\n",
        "        sum(x_i) >= y_j; for each y_j,\n",
        "        sum(x_i) = 1; for each color,\n",
        "        0 <= y_j <= 1,\n",
        "        0 <= x_i <= 1\n",
        "    '''\n",
        "    # [y_1, ..., y_n, x_1, ..., x_m]\n",
        "    c = [0 for i in range(m)] + [-1 for j in range(n)]\n",
        "    C1 = []\n",
        "    for j in range(n):\n",
        "        if covered[j]:\n",
        "            continue\n",
        "        c1 = [0 for i in range(m + n)]\n",
        "        s = point_to_sets[j]\n",
        "        c1[j + m] = 1\n",
        "        for i in s:\n",
        "            c1[i] = -1\n",
        "        C1.append(c1)\n",
        "\n",
        "    C2 = []\n",
        "    C3 = []\n",
        "    for color in color_to_sets.keys():\n",
        "        c2 = [0 for i in range(m + n)]\n",
        "        c3 = [0 for i in range(m + n)]\n",
        "        s = color_to_sets[color]\n",
        "        for i in s:\n",
        "            if sets_picked[i]:\n",
        "                continue\n",
        "            c2[i] = 1\n",
        "            c3[i] = -1\n",
        "        C2.append(c2)\n",
        "        C3.append(c3)\n",
        "\n",
        "    b = [0 for _ in range(len(C1))] + [1 for _ in range(len(color_to_sets))] + [-1 for _ in range(len(color_to_sets))]\n",
        "    bounds = [(0, 1) for _ in range(n + m)]\n",
        "\n",
        "    A = C1 + C2 + C3\n",
        "\n",
        "    res = linprog(c=c, A_ub=A, b_ub=b, bounds=bounds)\n",
        "\n",
        "    return res"
      ]
    },
    {
      "cell_type": "code",
      "execution_count": 9,
      "metadata": {
        "id": "m-nsZPbujj-e"
      },
      "outputs": [],
      "source": [
        "'''\n",
        "Find fair max cover by picking a pair at each step.\n",
        "Finds an approximation of best possible pair by rounding an LP\n",
        "'''\n",
        "def efficient_pick_set_cover(n, sets, colors):\n",
        "    # Pre-process\n",
        "    sets = copy.deepcopy(sets)\n",
        "    colors = copy.deepcopy(colors)\n",
        "    point_to_sets = get_point_to_set_hashmap(sets)\n",
        "    color_to_sets = get_color_to_set_hashmap(sets, colors)\n",
        "    cover = []\n",
        "    points_covered = [False for _ in range(n)]\n",
        "    sets_picked = [False for _ in range(len(sets))]\n",
        "    m = len(sets)\n",
        "    keys = [i for i in range(len(color_to_sets.keys()))]\n",
        "\n",
        "    counter = 0\n",
        "    # Main Loop\n",
        "    while True:\n",
        "        print(f\"Efficient pick set {counter + 1} / {len(sets)}\", end=\"\\r\")\n",
        "        counter += 1\n",
        "        # Break if all points covered\n",
        "        if np.all(points_covered):\n",
        "            break\n",
        "\n",
        "        # Find Largest Pair\n",
        "        res = approx_best_pair(\n",
        "            sets,\n",
        "            point_to_sets,\n",
        "            color_to_sets,\n",
        "            n,\n",
        "            m,\n",
        "            points_covered,\n",
        "            sets_picked\n",
        "        )\n",
        "        picked_pair = tuple([\n",
        "            np.random.choice(color_to_sets[i], 1, p=res.x[:m][color_to_sets[i]])[0]\n",
        "            for i in keys\n",
        "        ])\n",
        "\n",
        "        # Add to cover\n",
        "        cover += [*picked_pair]\n",
        "        for p in picked_pair:\n",
        "            sets_picked[p] = True\n",
        "\n",
        "        # Remove covered points\n",
        "        for p in tqdm.tqdm(picked_pair):\n",
        "            for covered_point in copy.deepcopy(sets[p]):\n",
        "                points_covered[covered_point] = True\n",
        "                for i in point_to_sets[covered_point]:\n",
        "                    covered_point in sets[i] and sets[i].remove(covered_point)\n",
        "\n",
        "    return cover\n",
        "\n",
        "# efficient_pick_set_cover(n, sets, colors)"
      ]
    },
    {
      "cell_type": "markdown",
      "metadata": {},
      "source": [
        "# Pospim Dataset"
      ]
    },
    {
      "cell_type": "code",
      "execution_count": 10,
      "metadata": {},
      "outputs": [
        {
          "data": {
            "text/plain": [
              "4110618"
            ]
          },
          "execution_count": 10,
          "metadata": {},
          "output_type": "execute_result"
        }
      ],
      "source": [
        "with open(\"dataset/input_database.txt\", 'r') as f:\n",
        "    lines = f.readlines()\n",
        "len(lines)"
      ]
    },
    {
      "cell_type": "code",
      "execution_count": 11,
      "metadata": {},
      "outputs": [],
      "source": [
        "coord = re.compile(r\"\\((\\d+.\\d+),\\s(\\d+.\\d+)\\)\")\n",
        "color = re.compile(r\"(\\d)\")\n",
        "\n",
        "data = {}\n",
        "last_c = None\n",
        "for line in lines:\n",
        "    if coord.match(line):\n",
        "        # print(re.search(coord, line).group(2), line)\n",
        "        match = re.search(coord, line)\n",
        "        x, y = float(match.group(1)), float(match.group(2))\n",
        "        data[last_c].append((x, y))\n",
        "    elif color.match(line):\n",
        "        # print(re.findall(color, line), line)\n",
        "        c = int(line.strip())\n",
        "        data[c] = []\n",
        "        last_c = c\n"
      ]
    },
    {
      "cell_type": "code",
      "execution_count": 12,
      "metadata": {},
      "outputs": [
        {
          "data": {
            "text/html": [
              "<div>\n",
              "<style scoped>\n",
              "    .dataframe tbody tr th:only-of-type {\n",
              "        vertical-align: middle;\n",
              "    }\n",
              "\n",
              "    .dataframe tbody tr th {\n",
              "        vertical-align: top;\n",
              "    }\n",
              "\n",
              "    .dataframe thead th {\n",
              "        text-align: right;\n",
              "    }\n",
              "</style>\n",
              "<table border=\"1\" class=\"dataframe\">\n",
              "  <thead>\n",
              "    <tr style=\"text-align: right;\">\n",
              "      <th></th>\n",
              "      <th>color</th>\n",
              "      <th>x</th>\n",
              "      <th>y</th>\n",
              "    </tr>\n",
              "  </thead>\n",
              "  <tbody>\n",
              "    <tr>\n",
              "      <th>0</th>\n",
              "      <td>0</td>\n",
              "      <td>7720.982199</td>\n",
              "      <td>78867.188540</td>\n",
              "    </tr>\n",
              "    <tr>\n",
              "      <th>1</th>\n",
              "      <td>0</td>\n",
              "      <td>89627.028825</td>\n",
              "      <td>70071.537547</td>\n",
              "    </tr>\n",
              "    <tr>\n",
              "      <th>2</th>\n",
              "      <td>0</td>\n",
              "      <td>84361.871932</td>\n",
              "      <td>97117.551705</td>\n",
              "    </tr>\n",
              "    <tr>\n",
              "      <th>3</th>\n",
              "      <td>0</td>\n",
              "      <td>28595.067689</td>\n",
              "      <td>87388.534848</td>\n",
              "    </tr>\n",
              "    <tr>\n",
              "      <th>4</th>\n",
              "      <td>0</td>\n",
              "      <td>79024.626051</td>\n",
              "      <td>66595.629925</td>\n",
              "    </tr>\n",
              "  </tbody>\n",
              "</table>\n",
              "</div>"
            ],
            "text/plain": [
              "   color             x             y\n",
              "0      0   7720.982199  78867.188540\n",
              "1      0  89627.028825  70071.537547\n",
              "2      0  84361.871932  97117.551705\n",
              "3      0  28595.067689  87388.534848\n",
              "4      0  79024.626051  66595.629925"
            ]
          },
          "execution_count": 12,
          "metadata": {},
          "output_type": "execute_result"
        }
      ],
      "source": [
        "df = {\n",
        "    \"color\": [],\n",
        "    \"x\": [],\n",
        "    \"y\": []\n",
        "}\n",
        "\n",
        "for key in data.keys():\n",
        "    for point in data[key]:\n",
        "        df[\"color\"].append(key)\n",
        "        df[\"x\"].append(point[0])\n",
        "        df[\"y\"].append(point[1])\n",
        "\n",
        "data = pd.DataFrame(df)\n",
        "data.head()"
      ]
    },
    {
      "cell_type": "code",
      "execution_count": 13,
      "metadata": {},
      "outputs": [
        {
          "data": {
            "text/plain": [
              "(color\n",
              " 3    3070882\n",
              " 2     705193\n",
              " 1     294728\n",
              " 0      38080\n",
              " Name: count, dtype: int64,\n",
              " (4108883, 3))"
            ]
          },
          "execution_count": 13,
          "metadata": {},
          "output_type": "execute_result"
        }
      ],
      "source": [
        "data = data[data[\"color\"] > 0]\n",
        "data[\"color\"] = data[\"color\"].replace({1: 0, 2: 1, 3: 2, 4: 3})\n",
        "data[\"color\"].value_counts(), data.shape"
      ]
    },
    {
      "cell_type": "markdown",
      "metadata": {},
      "source": [
        "## Make Sets v1"
      ]
    },
    {
      "cell_type": "code",
      "execution_count": 14,
      "metadata": {},
      "outputs": [
        {
          "data": {
            "text/plain": [
              "(color\n",
              " 3    74582\n",
              " 2    17195\n",
              " 1     7314\n",
              " 0      909\n",
              " Name: count, dtype: int64,\n",
              "      index  color             x             y\n",
              " 0  1472510      3  83970.249450  84385.472050\n",
              " 1  2665300      3  95403.872611  79465.585964\n",
              " 2  1236124      3  89766.470398  69138.336054\n",
              " 3  3993687      3  61112.716471  49047.979972\n",
              " 4  1175349      3  86200.728902  94579.365992)"
            ]
          },
          "execution_count": 14,
          "metadata": {},
          "output_type": "execute_result"
        }
      ],
      "source": [
        "df = data.sample(n=100000)\n",
        "# df = data.copy()\n",
        "df = df.reset_index()\n",
        "df[\"color\"].value_counts(), df.head()"
      ]
    },
    {
      "cell_type": "code",
      "execution_count": 15,
      "metadata": {},
      "outputs": [],
      "source": [
        "circle_radius = 10000\n",
        "\n",
        "def distance(p1, p2):\n",
        "    return math.sqrt((p1[0] - p2[0])**2 + (p1[1] - p2[1])**2)\n",
        "\n",
        "def get_all_within_distance(p, radius, df):\n",
        "    for index, p2 in df.iterrows():\n",
        "        if distance((p[\"x\"], p[\"y\"]), (p2[\"x\"], p2[\"y\"])) <= radius:\n",
        "            yield index\n",
        "\n",
        "# Return sets, colors\n",
        "def make_sets(df, circle_radius=circle_radius):\n",
        "    sets = []\n",
        "    colors = []\n",
        "    for index, point in df.iterrows():\n",
        "        print (f\"Making sets: {index + 1} / {df.shape[0]}\", end=\"\\r\")\n",
        "        # if index % 10 == 0:\n",
        "        #     print(f\"{index} / {df.shape[0]}\")\n",
        "        colors.append(point[\"color\"])\n",
        "        neighbors = list(get_all_within_distance(point, circle_radius, df))\n",
        "        sets.append(set(neighbors))\n",
        "    \n",
        "    return sets, colors\n",
        "\n",
        "def make_sets_v2(df, circle_radius, set_sample_size):\n",
        "    sets = []\n",
        "    colors = []\n",
        "    tree = KDTree(df[[\"x\", \"y\"]])\n",
        "    result = tree.query_ball_point(df[[\"x\", \"y\"]].sample(n=set_sample_size), r=circle_radius, workers=12)\n",
        "    \n",
        "    for i, s in enumerate(result):\n",
        "        print(f\"Making sets: {i + 1} / {set_sample_size}\", end=\"\\r\")\n",
        "        point = df.iloc[i]\n",
        "        colors.append(point[\"color\"])\n",
        "        sets.append(s)\n",
        "\n",
        "    return sets, colors\n",
        "\n",
        "# sets, colors = make_sets(df)\n",
        "# sets, colors = make_sets_v2(df)"
      ]
    },
    {
      "cell_type": "code",
      "execution_count": 16,
      "metadata": {},
      "outputs": [
        {
          "data": {
            "text/plain": [
              "0"
            ]
          },
          "execution_count": 16,
          "metadata": {},
          "output_type": "execute_result"
        }
      ],
      "source": [
        "gc.collect()"
      ]
    },
    {
      "cell_type": "code",
      "execution_count": 17,
      "metadata": {},
      "outputs": [],
      "source": [
        "def verify_sets(sets, N, colors):\n",
        "    for i in range(N):\n",
        "        print(f\"Verifying {i + 1} / {N}\", end=\"\\r\")\n",
        "        flag = False\n",
        "        for s in sets:\n",
        "            if i in s:\n",
        "                flag = True\n",
        "        if not flag:\n",
        "            print(i)\n",
        "            return False\n",
        "    if len(np.unique(colors)) < 4:\n",
        "        return False\n",
        "    return True\n",
        "\n",
        "from itertools import chain\n",
        "\n",
        "def verify_sets_v2(sets, N, colors):\n",
        "    all_sets = set()\n",
        "    # for i, s in enumerate(sets):\n",
        "    #     print(f\"Appending sets {i + 1} / {len(sets)}\", end=\"\\r\")\n",
        "    #     all_sets = all_sets.union(set(s))\n",
        "    # all_sets = list(set().union(*sets))\n",
        "\n",
        "    all_sets = list(set(chain.from_iterable(sets)))\n",
        "    print(\"\")\n",
        "    for i in range(N):\n",
        "        print(f\"Verifying {i + 1} / {N}\", end=\"\\r\")\n",
        "        if i not in all_sets:\n",
        "            return False\n",
        "    if len(np.unique(colors)) < 4:\n",
        "        return False\n",
        "    \n",
        "     # Enrich the sets!\n",
        "    for i in range(4):\n",
        "        col_ind = colors.index(i)\n",
        "        for _ in range(10): # Add 10 of each\n",
        "            sets.append(sets[col_ind])\n",
        "            colors.append(i)\n",
        "\n",
        "    return True\n",
        "\n",
        "\n",
        "# verify_sets(sets, df.shape[0], colors)\n",
        "# verify_sets_v2(sets, df.shape[0], colors)"
      ]
    },
    {
      "cell_type": "markdown",
      "metadata": {},
      "source": [
        "## Sample Run for figure"
      ]
    },
    {
      "cell_type": "code",
      "execution_count": 116,
      "metadata": {},
      "outputs": [
        {
          "name": "stdout",
          "output_type": "stream",
          "text": [
            "Sampling...\n",
            "Making sets...\n",
            "Making sets: 1000 / 1000\r"
          ]
        }
      ],
      "source": [
        "N = set_size = 1000\n",
        "circle_radius = 25000\n",
        "while True:\n",
        "    while True:\n",
        "        print(\"Sampling...\")\n",
        "        df = data.sample(n=set_size)\n",
        "        df = df.reset_index()\n",
        "        # if len(np.unique(colors)) < 4:\n",
        "        #     print(\"Invalid colors...\")\n",
        "        #     continue\n",
        "        print(\"Making sets...\")\n",
        "        sets, colors = make_sets(df, circle_radius=circle_radius)\n",
        "        if verify_sets(sets, N, colors):\n",
        "            break\n",
        "    try:\n",
        "        res_1 = naive_fair_set_cover(N, sets, colors)\n",
        "        res_2 = efficient_pick_set_cover(N, sets, colors)\n",
        "        break\n",
        "    except:\n",
        "        print(\"Retrying...\")"
      ]
    },
    {
      "cell_type": "code",
      "execution_count": 135,
      "metadata": {},
      "outputs": [],
      "source": [
        "res_3 = standard_set_cover(N, sets)"
      ]
    },
    {
      "cell_type": "code",
      "execution_count": 117,
      "metadata": {},
      "outputs": [
        {
          "data": {
            "text/plain": [
              "12"
            ]
          },
          "execution_count": 117,
          "metadata": {},
          "output_type": "execute_result"
        }
      ],
      "source": [
        "len(res_2)"
      ]
    },
    {
      "cell_type": "code",
      "execution_count": 138,
      "metadata": {},
      "outputs": [
        {
          "data": {
            "text/plain": [
              "color\n",
              "3    741\n",
              "2    179\n",
              "1     66\n",
              "0     14\n",
              "Name: count, dtype: int64"
            ]
          },
          "execution_count": 138,
          "metadata": {},
          "output_type": "execute_result"
        }
      ],
      "source": [
        "df[\"color\"].value_counts()"
      ]
    },
    {
      "cell_type": "code",
      "execution_count": 137,
      "metadata": {},
      "outputs": [
        {
          "name": "stderr",
          "output_type": "stream",
          "text": [
            "The PostScript backend does not support transparency; partially transparent artists will be rendered opaque.\n"
          ]
        },
        {
          "data": {
            "image/png": "[encoded data removed]",
            "text/plain": [
              "<Figure size 700x700 with 1 Axes>"
            ]
          },
          "metadata": {},
          "output_type": "display_data"
        }
      ],
      "source": [
        "fig, ax = plt.subplots(figsize=(7, 7))\n",
        "\n",
        "colors_value = [\"red\", \"orange\", \"green\", \"blue\"]\n",
        "\n",
        "ax.scatter(x=df[df[\"color\"] == 3][\"x\"], \n",
        "           y=df[df[\"color\"] == 3][\"y\"], \n",
        "           label=\"color=3\", \n",
        "           c=colors_value[3],\n",
        "           alpha=0.6)\n",
        "ax.scatter(x=df[df[\"color\"] == 2][\"x\"], \n",
        "           y=df[df[\"color\"] == 2][\"y\"], \n",
        "           label=\"color=2\", \n",
        "           c=colors_value[2],\n",
        "           alpha=0.6)\n",
        "ax.scatter(x=df[df[\"color\"] == 1][\"x\"], \n",
        "           y=df[df[\"color\"] == 1][\"y\"], \n",
        "           label=\"color=1\", \n",
        "           c=colors_value[1],\n",
        "           alpha=0.6)\n",
        "ax.scatter(x=df[df[\"color\"] == 0][\"x\"], \n",
        "           y=df[df[\"color\"] == 0][\"y\"], \n",
        "           label=\"color=0\", \n",
        "           c=colors_value[0],\n",
        "           alpha=0.6)\n",
        "ax.legend(prop={'size': 12})\n",
        "\n",
        "for result in sorted(res_3, reverse=True):\n",
        "    point = df.iloc[result]\n",
        "    circle1 = plt.Circle((point[\"x\"], point[\"y\"]), circle_radius, color=colors_value[int(point[\"color\"])], alpha=0.2)\n",
        "    ax.add_patch(circle1)\n",
        "\n",
        "ax.set_aspect('equal', adjustable='box')\n",
        "ax.set_ylim(0, 108000)\n",
        "ax.set_xlim(0, 108000)\n",
        "\n",
        "plt.xlabel(\"X coordinate\", fontsize=15)\n",
        "plt.ylabel(\"Y coordinate\", fontsize=15)\n",
        "\n",
        "# plt.savefig('popsim_vis_standard.png', bbox_inches='tight')\n",
        "# plt.savefig('popsim_vis_standard.eps', format=\"eps\")\n",
        "\n",
        "plt.show()"
      ]
    },
    {
      "cell_type": "code",
      "execution_count": 53,
      "metadata": {},
      "outputs": [
        {
          "data": {
            "text/plain": [
              "(1, 259, 112.932)"
            ]
          },
          "execution_count": 53,
          "metadata": {},
          "output_type": "execute_result"
        }
      ],
      "source": [
        "lens = []\n",
        "for x in sets:\n",
        "    lens.append(len(x))\n",
        "tmp = pd.Series(lens)\n",
        "tmp.min(), tmp.max(), tmp.mean()"
      ]
    },
    {
      "cell_type": "markdown",
      "metadata": {},
      "source": [
        "## Experiment"
      ]
    },
    {
      "cell_type": "code",
      "execution_count": 18,
      "metadata": {},
      "outputs": [],
      "source": [
        "def run_with_time(func, *args):\n",
        "    start_time = time.time()\n",
        "    res = func(*args)\n",
        "    run_time = time.time() - start_time\n",
        "    return (res, run_time)\n",
        "\n",
        "def run_all(n, sets, colors):\n",
        "    results = {}\n",
        "\n",
        "    print(\"\\nEffAllPick...\")\n",
        "    results[\"EffAllPick\"] = run_with_time(efficient_pick_set_cover, n, copy.deepcopy(sets), copy.deepcopy(colors))\n",
        "    print(\"\\nNaive...\")\n",
        "    results[\"Naive\"] = run_with_time(naive_fair_set_cover, n, copy.deepcopy(sets), copy.deepcopy(colors))\n",
        "    print(\"\\nSC...\")\n",
        "    results[\"SC\"] = run_with_time(standard_set_cover, n, copy.deepcopy(sets))\n",
        "    \n",
        "    # print(\"AllPick...\")\n",
        "    # results[\"AllPick\"] = run_with_time(all_pick_fair_set_cover, n, copy.deepcopy(sets), copy.deepcopy(colors))\n",
        "    gc.collect()\n",
        "\n",
        "    return results"
      ]
    },
    {
      "cell_type": "code",
      "execution_count": null,
      "metadata": {},
      "outputs": [],
      "source": [
        "runs_per_n = 5\n",
        "# set_sizes = [20000, 40000, 60000, 80000, 100000]\n",
        "# set_sizes = [10_000, 12_000, 14_000, 16_000, 18_000, 20_000]\n",
        "set_sizes = [2_000, 4_000, 6_000, 8_000]\n",
        "\n",
        "output_file_name_times = \"output_popsim_times_v2.0_1k.txt\"\n",
        "output_file_name_counts = \"output_popsim_counts_v2.0_1k.txt\"\n",
        "output_file_name_fairness = \"output_popsim_fairness_v2.0_1k.txt\"\n",
        "\n",
        "# result_df_times = {\"SetSize\": [], \"SC\": [], \"Naive\": [], \"AllPick\": [], \"EffAllPick\": []}\n",
        "# result_df_counts = {\"SetSize\": [], \"SC\": [], \"Naive\": [], \"AllPick\": [], \"EffAllPick\": []}\n",
        "# result_df_fairness = {\"SetSize\": [], \"SC\": [], \"Naive\": [], \"AllPick\": [], \"EffAllPick\": []}\n",
        "result_df_times = {\"SetSize\": [], \"SC\": [], \"Naive\": [], \"EffAllPick\": []}\n",
        "result_df_counts = {\"SetSize\": [], \"SC\": [], \"Naive\": [], \"EffAllPick\": []}\n",
        "result_df_fairness = {\"SetSize\": [], \"SC\": [], \"Naive\": [], \"EffAllPick\": []}\n",
        "\n",
        "try:\n",
        "    os.remove(output_file_name_counts)\n",
        "    os.remove(output_file_name_times)\n",
        "    os.remove(output_file_name_fairness)\n",
        "except OSError:\n",
        "    pass\n",
        "\n",
        "for set_size in set_sizes:\n",
        "    N = set_size\n",
        "    for i in range(runs_per_n):\n",
        "        print(f\"Sample {i + 1} / {runs_per_n}\")\n",
        "        \n",
        "        while True:\n",
        "            while True:\n",
        "                df = data.sample(n=set_size)\n",
        "                df = df.reset_index()\n",
        "                sets, colors = make_sets_v2(df, circle_radius=20000, set_sample_size=set_size // 10)\n",
        "                # Sampling a subset of sets!\n",
        "                # sets, colors = zip(*random.sample(list(zip(sets, colors)), 5000))\n",
        "                print(f\"\\n set & color size {len(sets)} - {len(colors)}\")\n",
        "                if verify_sets_v2(sets, N, colors):\n",
        "                    break\n",
        "                else:\n",
        "                    print(\"\\nnot verified, retrying...\")\n",
        "\n",
        "            print(\"\\nRunning...\")\n",
        "            \n",
        "            # Run\n",
        "            try:\n",
        "                result = run_all(N, sets, colors)\n",
        "                gc.collect() # remove unused memory!\n",
        "                break\n",
        "            except Exception as e:\n",
        "                print(\"\\nIndexError retrying...\", e)\n",
        "                continue\n",
        "\n",
        "\n",
        "        print(f\"\\nset_size = {set_size} in {set_sizes} : {i + 1} / {runs_per_n}\")\n",
        "\n",
        "        # Generate Result Dataframe\n",
        "        fair_res = []\n",
        "        count_res = []\n",
        "        times_res = []\n",
        "\n",
        "        result_df_times[\"SetSize\"].append(set_size)\n",
        "        times_res.append(set_size)\n",
        "        result_df_counts[\"SetSize\"].append(set_size)\n",
        "        count_res.append(set_size)\n",
        "        result_df_fairness[\"SetSize\"].append(set_size)\n",
        "        fair_res.append(set_size)\n",
        "        for key in result:\n",
        "            result_df_times[key].append(result[key][1])\n",
        "            times_res.append(result[key][1])\n",
        "            result_df_counts[key].append(len(result[key][0]))\n",
        "            count_res.append(len(result[key][0]))\n",
        "            tmp = np.unique([colors[c] for c in result[key][0]], return_counts=True)[1]\n",
        "            if len(tmp) == 1:\n",
        "                result_df_fairness[key].append(0)\n",
        "                fair_res.append(0)\n",
        "            else:\n",
        "                result_df_fairness[key].append(np.min(tmp) / np.max(tmp))\n",
        "                fair_res.append(np.min(tmp) / np.max(tmp))\n",
        "\n",
        "        # Write files\n",
        "        with open(output_file_name_counts, \"a\") as f:\n",
        "            f.writelines(\",\".join([str(x) for x in count_res]) + \"\\n\")\n",
        "        with open(output_file_name_fairness, \"a\") as f:\n",
        "            f.writelines(\",\".join([str(x) for x in fair_res]) + \"\\n\")\n",
        "        with open(output_file_name_times, \"a\") as f:\n",
        "            f.writelines(\",\".join([str(x) for x in times_res]) + \"\\n\")\n",
        "\n",
        "result_df_times = pd.DataFrame(result_df_times)\n",
        "result_df_counts = pd.DataFrame(result_df_counts)\n",
        "result_df_fairness = pd.DataFrame(result_df_fairness)\n",
        "\n",
        "result_df_counts.to_csv(f\"result_df_counts_popsim_1k.csv\")\n",
        "result_df_fairness.to_csv(f\"result_df_fairness_popsim_1k.csv\")\n",
        "result_df_times.to_csv(f\"result_df_times_popsim_1k.csv\")"
      ]
    },
    {
      "cell_type": "markdown",
      "metadata": {},
      "source": [
        "# Adult Dataset"
      ]
    },
    {
      "cell_type": "code",
      "execution_count": 139,
      "metadata": {},
      "outputs": [
        {
          "data": {
            "text/html": [
              "<div>\n",
              "<style scoped>\n",
              "    .dataframe tbody tr th:only-of-type {\n",
              "        vertical-align: middle;\n",
              "    }\n",
              "\n",
              "    .dataframe tbody tr th {\n",
              "        vertical-align: top;\n",
              "    }\n",
              "\n",
              "    .dataframe thead th {\n",
              "        text-align: right;\n",
              "    }\n",
              "</style>\n",
              "<table border=\"1\" class=\"dataframe\">\n",
              "  <thead>\n",
              "    <tr style=\"text-align: right;\">\n",
              "      <th></th>\n",
              "      <th>age</th>\n",
              "      <th>workclass</th>\n",
              "      <th>fnlwgt</th>\n",
              "      <th>education</th>\n",
              "      <th>educational-num</th>\n",
              "      <th>marital-status</th>\n",
              "      <th>occupation</th>\n",
              "      <th>relationship</th>\n",
              "      <th>race</th>\n",
              "      <th>gender</th>\n",
              "      <th>capital-gain</th>\n",
              "      <th>capital-loss</th>\n",
              "      <th>hours-per-week</th>\n",
              "      <th>native-country</th>\n",
              "      <th>income</th>\n",
              "    </tr>\n",
              "  </thead>\n",
              "  <tbody>\n",
              "    <tr>\n",
              "      <th>0</th>\n",
              "      <td>25</td>\n",
              "      <td>Private</td>\n",
              "      <td>226802</td>\n",
              "      <td>11th</td>\n",
              "      <td>7</td>\n",
              "      <td>Never-married</td>\n",
              "      <td>Machine-op-inspct</td>\n",
              "      <td>Own-child</td>\n",
              "      <td>Black</td>\n",
              "      <td>Male</td>\n",
              "      <td>0</td>\n",
              "      <td>0</td>\n",
              "      <td>40</td>\n",
              "      <td>United-States</td>\n",
              "      <td>&lt;=50K</td>\n",
              "    </tr>\n",
              "    <tr>\n",
              "      <th>1</th>\n",
              "      <td>38</td>\n",
              "      <td>Private</td>\n",
              "      <td>89814</td>\n",
              "      <td>HS-grad</td>\n",
              "      <td>9</td>\n",
              "      <td>Married-civ-spouse</td>\n",
              "      <td>Farming-fishing</td>\n",
              "      <td>Husband</td>\n",
              "      <td>White</td>\n",
              "      <td>Male</td>\n",
              "      <td>0</td>\n",
              "      <td>0</td>\n",
              "      <td>50</td>\n",
              "      <td>United-States</td>\n",
              "      <td>&lt;=50K</td>\n",
              "    </tr>\n",
              "    <tr>\n",
              "      <th>2</th>\n",
              "      <td>28</td>\n",
              "      <td>Local-gov</td>\n",
              "      <td>336951</td>\n",
              "      <td>Assoc-acdm</td>\n",
              "      <td>12</td>\n",
              "      <td>Married-civ-spouse</td>\n",
              "      <td>Protective-serv</td>\n",
              "      <td>Husband</td>\n",
              "      <td>White</td>\n",
              "      <td>Male</td>\n",
              "      <td>0</td>\n",
              "      <td>0</td>\n",
              "      <td>40</td>\n",
              "      <td>United-States</td>\n",
              "      <td>&gt;50K</td>\n",
              "    </tr>\n",
              "    <tr>\n",
              "      <th>3</th>\n",
              "      <td>44</td>\n",
              "      <td>Private</td>\n",
              "      <td>160323</td>\n",
              "      <td>Some-college</td>\n",
              "      <td>10</td>\n",
              "      <td>Married-civ-spouse</td>\n",
              "      <td>Machine-op-inspct</td>\n",
              "      <td>Husband</td>\n",
              "      <td>Black</td>\n",
              "      <td>Male</td>\n",
              "      <td>7688</td>\n",
              "      <td>0</td>\n",
              "      <td>40</td>\n",
              "      <td>United-States</td>\n",
              "      <td>&gt;50K</td>\n",
              "    </tr>\n",
              "    <tr>\n",
              "      <th>4</th>\n",
              "      <td>18</td>\n",
              "      <td>?</td>\n",
              "      <td>103497</td>\n",
              "      <td>Some-college</td>\n",
              "      <td>10</td>\n",
              "      <td>Never-married</td>\n",
              "      <td>?</td>\n",
              "      <td>Own-child</td>\n",
              "      <td>White</td>\n",
              "      <td>Female</td>\n",
              "      <td>0</td>\n",
              "      <td>0</td>\n",
              "      <td>30</td>\n",
              "      <td>United-States</td>\n",
              "      <td>&lt;=50K</td>\n",
              "    </tr>\n",
              "  </tbody>\n",
              "</table>\n",
              "</div>"
            ],
            "text/plain": [
              "   age  workclass  fnlwgt     education  educational-num      marital-status  \\\n",
              "0   25    Private  226802          11th                7       Never-married   \n",
              "1   38    Private   89814       HS-grad                9  Married-civ-spouse   \n",
              "2   28  Local-gov  336951    Assoc-acdm               12  Married-civ-spouse   \n",
              "3   44    Private  160323  Some-college               10  Married-civ-spouse   \n",
              "4   18          ?  103497  Some-college               10       Never-married   \n",
              "\n",
              "          occupation relationship   race  gender  capital-gain  capital-loss  \\\n",
              "0  Machine-op-inspct    Own-child  Black    Male             0             0   \n",
              "1    Farming-fishing      Husband  White    Male             0             0   \n",
              "2    Protective-serv      Husband  White    Male             0             0   \n",
              "3  Machine-op-inspct      Husband  Black    Male          7688             0   \n",
              "4                  ?    Own-child  White  Female             0             0   \n",
              "\n",
              "   hours-per-week native-country income  \n",
              "0              40  United-States  <=50K  \n",
              "1              50  United-States  <=50K  \n",
              "2              40  United-States   >50K  \n",
              "3              40  United-States   >50K  \n",
              "4              30  United-States  <=50K  "
            ]
          },
          "execution_count": 139,
          "metadata": {},
          "output_type": "execute_result"
        }
      ],
      "source": [
        "data = pd.read_csv(\"dataset/adult.csv\")\n",
        "data.head()"
      ]
    },
    {
      "cell_type": "code",
      "execution_count": 140,
      "metadata": {},
      "outputs": [
        {
          "data": {
            "text/plain": [
              "((48842, 15),\n",
              " gender\n",
              " Male      32650\n",
              " Female    16192\n",
              " Name: count, dtype: int64)"
            ]
          },
          "execution_count": 140,
          "metadata": {},
          "output_type": "execute_result"
        }
      ],
      "source": [
        "data.shape, data[\"gender\"].value_counts()"
      ]
    },
    {
      "cell_type": "code",
      "execution_count": 241,
      "metadata": {},
      "outputs": [],
      "source": [
        "df = data.sample(n=4000)"
      ]
    },
    {
      "cell_type": "code",
      "execution_count": 189,
      "metadata": {},
      "outputs": [],
      "source": [
        "cover_columns = {\n",
        "    \"workclass\": [\"Private\", \"Self-emp-not-inc\", \"Local-gov\", \"State-gov\", \"Self-emp-inc\", \"Federal-gov\"], \n",
        "    \"education\": [\"HS-grad\", \"Some-college\", \"Bachelors\", \"Masters\", \"Assoc-voc\", \"11th\", \"Assoc-acdm\", \"10th\", \"7th-8th\"], \n",
        "    \"marital-status\": [\"Married-civ-spouse\", \"Never-married\", \"Divorced\", \"Widowed\"], \n",
        "    \"occupation\": [\"Craft-repair\", \"Adm-clerical\", \"Prof-specialty\", \"Exec-managerial\", \"Sales\", \"Other-service\", \"Machine-op-inspct\", \"Transport-moving\"], \n",
        "    \"income\": [\"<=50K\", \">50K\"]\n",
        "}"
      ]
    },
    {
      "cell_type": "code",
      "execution_count": 190,
      "metadata": {},
      "outputs": [
        {
          "data": {
            "text/plain": [
              "income\n",
              "<=50K    3046\n",
              ">50K      954\n",
              "Name: count, dtype: int64"
            ]
          },
          "execution_count": 190,
          "metadata": {},
          "output_type": "execute_result"
        }
      ],
      "source": [
        "df[\"income\"].value_counts()"
      ]
    },
    {
      "cell_type": "code",
      "execution_count": 242,
      "metadata": {},
      "outputs": [
        {
          "name": "stdout",
          "output_type": "stream",
          "text": [
            "28\n"
          ]
        }
      ],
      "source": [
        "# Assign numbers to points\n",
        "points = []\n",
        "for k in cover_columns.keys():\n",
        "    points += cover_columns[k]\n",
        "print(len(points))"
      ]
    },
    {
      "cell_type": "code",
      "execution_count": null,
      "metadata": {},
      "outputs": [],
      "source": [
        "# Make the sets\n",
        "# Returns: sets, colors\n",
        "def make_sets(data, cover_columns, points):\n",
        "    sets = []\n",
        "    colors = []\n",
        "    for index, row in data.iterrows():\n",
        "        this_set = []\n",
        "        for col in cover_columns.keys():\n",
        "            if row[col] in points:\n",
        "                this_set.append(points.index(row[col]))\n",
        "        sets.append(set(this_set))\n",
        "        colors.append(1 if row[\"gender\"] == \"Male\" else 0)\n",
        "    return sets, colors\n",
        "\n",
        "sets, colors = make_sets(df, cover_columns, points)\n",
        "len(sets), len(colors)"
      ]
    },
    {
      "cell_type": "code",
      "execution_count": 193,
      "metadata": {},
      "outputs": [
        {
          "data": {
            "text/plain": [
              "((array([0, 1]), array([1321, 2679])),\n",
              " gender\n",
              " Male      2679\n",
              " Female    1321\n",
              " Name: count, dtype: int64)"
            ]
          },
          "execution_count": 193,
          "metadata": {},
          "output_type": "execute_result"
        }
      ],
      "source": [
        "np.unique(np.array(colors), return_counts=True), df[\"gender\"].value_counts()"
      ]
    },
    {
      "cell_type": "markdown",
      "metadata": {},
      "source": [
        "## Experiment"
      ]
    },
    {
      "cell_type": "code",
      "execution_count": 194,
      "metadata": {},
      "outputs": [],
      "source": [
        "def run_with_time(func, *args):\n",
        "    start_time = time.time()\n",
        "    res = func(*args)\n",
        "    run_time = time.time() - start_time\n",
        "    return (res, run_time)\n",
        "\n",
        "def run_all(n, sets, colors):\n",
        "    results = {}\n",
        "\n",
        "    print(\"SC...\")\n",
        "    results[\"SC\"] = run_with_time(standard_set_cover, n, copy.deepcopy(sets))\n",
        "    print(\"Naive...\")\n",
        "    results[\"Naive\"] = run_with_time(naive_fair_set_cover, n, copy.deepcopy(sets), copy.deepcopy(colors))\n",
        "    print(\"AllPick...\")\n",
        "    results[\"AllPick\"] = run_with_time(all_pick_fair_set_cover, n, copy.deepcopy(sets), copy.deepcopy(colors))\n",
        "    print(\"EffAllPick...\")\n",
        "    results[\"EffAllPick\"] = run_with_time(efficient_pick_set_cover, n, copy.deepcopy(sets), copy.deepcopy(colors))\n",
        "\n",
        "    return results"
      ]
    },
    {
      "cell_type": "code",
      "execution_count": 200,
      "metadata": {},
      "outputs": [
        {
          "name": "stdout",
          "output_type": "stream",
          "text": [
            "Preparing the sets\n",
            "Running...\n",
            "SC...\n",
            "Naive...\n",
            "AllPick...\n",
            "EffAllPick...\n",
            "set_size = 1000 in [1000, 2000, 3000, 4000, 5000] : 1 / 5\n",
            "Preparing the sets\n",
            "Running...\n",
            "SC...\n",
            "Naive...\n",
            "AllPick...\n",
            "EffAllPick...\n",
            "set_size = 1000 in [1000, 2000, 3000, 4000, 5000] : 2 / 5\n",
            "Preparing the sets\n",
            "Running...\n",
            "SC...\n",
            "Naive...\n",
            "AllPick...\n",
            "EffAllPick...\n",
            "set_size = 1000 in [1000, 2000, 3000, 4000, 5000] : 3 / 5\n",
            "Preparing the sets\n",
            "Running...\n",
            "SC...\n",
            "Naive...\n",
            "AllPick...\n",
            "EffAllPick...\n",
            "set_size = 1000 in [1000, 2000, 3000, 4000, 5000] : 4 / 5\n",
            "Preparing the sets\n",
            "Running...\n",
            "SC...\n",
            "Naive...\n",
            "AllPick...\n",
            "EffAllPick...\n",
            "set_size = 1000 in [1000, 2000, 3000, 4000, 5000] : 5 / 5\n",
            "Preparing the sets\n",
            "Running...\n",
            "SC...\n",
            "Naive...\n",
            "AllPick...\n",
            "EffAllPick...\n",
            "set_size = 2000 in [1000, 2000, 3000, 4000, 5000] : 1 / 5\n",
            "Preparing the sets\n",
            "Running...\n",
            "SC...\n",
            "Naive...\n",
            "AllPick...\n",
            "EffAllPick...\n",
            "set_size = 2000 in [1000, 2000, 3000, 4000, 5000] : 2 / 5\n",
            "Preparing the sets\n",
            "Running...\n",
            "SC...\n",
            "Naive...\n",
            "AllPick...\n",
            "EffAllPick...\n",
            "set_size = 2000 in [1000, 2000, 3000, 4000, 5000] : 3 / 5\n",
            "Preparing the sets\n",
            "Running...\n",
            "SC...\n",
            "Naive...\n",
            "AllPick...\n",
            "EffAllPick...\n",
            "set_size = 2000 in [1000, 2000, 3000, 4000, 5000] : 4 / 5\n",
            "Preparing the sets\n",
            "Running...\n",
            "SC...\n",
            "Naive...\n",
            "AllPick...\n",
            "EffAllPick...\n",
            "set_size = 2000 in [1000, 2000, 3000, 4000, 5000] : 5 / 5\n",
            "Preparing the sets\n",
            "Running...\n",
            "SC...\n",
            "Naive...\n",
            "AllPick...\n",
            "EffAllPick...\n",
            "set_size = 3000 in [1000, 2000, 3000, 4000, 5000] : 1 / 5\n",
            "Preparing the sets\n",
            "Running...\n",
            "SC...\n",
            "Naive...\n",
            "AllPick...\n",
            "EffAllPick...\n",
            "set_size = 3000 in [1000, 2000, 3000, 4000, 5000] : 2 / 5\n",
            "Preparing the sets\n",
            "Running...\n",
            "SC...\n",
            "Naive...\n",
            "AllPick...\n",
            "EffAllPick...\n",
            "set_size = 3000 in [1000, 2000, 3000, 4000, 5000] : 3 / 5\n",
            "Preparing the sets\n",
            "Running...\n",
            "SC...\n",
            "Naive...\n",
            "AllPick...\n",
            "EffAllPick...\n",
            "set_size = 3000 in [1000, 2000, 3000, 4000, 5000] : 4 / 5\n",
            "Preparing the sets\n",
            "Running...\n",
            "SC...\n",
            "Naive...\n",
            "AllPick...\n",
            "EffAllPick...\n",
            "set_size = 3000 in [1000, 2000, 3000, 4000, 5000] : 5 / 5\n",
            "Preparing the sets\n",
            "Running...\n",
            "SC...\n",
            "Naive...\n",
            "AllPick...\n",
            "EffAllPick...\n",
            "set_size = 4000 in [1000, 2000, 3000, 4000, 5000] : 1 / 5\n",
            "Preparing the sets\n",
            "Running...\n",
            "SC...\n",
            "Naive...\n",
            "AllPick...\n",
            "EffAllPick...\n",
            "set_size = 4000 in [1000, 2000, 3000, 4000, 5000] : 2 / 5\n",
            "Preparing the sets\n",
            "Running...\n",
            "SC...\n",
            "Naive...\n",
            "AllPick...\n",
            "EffAllPick...\n",
            "set_size = 4000 in [1000, 2000, 3000, 4000, 5000] : 3 / 5\n",
            "Preparing the sets\n",
            "Running...\n",
            "SC...\n",
            "Naive...\n",
            "AllPick...\n",
            "EffAllPick...\n",
            "set_size = 4000 in [1000, 2000, 3000, 4000, 5000] : 4 / 5\n",
            "Preparing the sets\n",
            "Running...\n",
            "SC...\n",
            "Naive...\n",
            "AllPick...\n",
            "EffAllPick...\n",
            "set_size = 4000 in [1000, 2000, 3000, 4000, 5000] : 5 / 5\n",
            "Preparing the sets\n",
            "Running...\n",
            "SC...\n",
            "Naive...\n",
            "AllPick...\n",
            "EffAllPick...\n",
            "set_size = 5000 in [1000, 2000, 3000, 4000, 5000] : 1 / 5\n",
            "Preparing the sets\n",
            "Running...\n",
            "SC...\n",
            "Naive...\n",
            "AllPick...\n",
            "EffAllPick...\n",
            "set_size = 5000 in [1000, 2000, 3000, 4000, 5000] : 2 / 5\n",
            "Preparing the sets\n",
            "Running...\n",
            "SC...\n",
            "Naive...\n",
            "AllPick...\n",
            "EffAllPick...\n",
            "set_size = 5000 in [1000, 2000, 3000, 4000, 5000] : 3 / 5\n",
            "Preparing the sets\n",
            "Running...\n",
            "SC...\n",
            "Naive...\n",
            "AllPick...\n",
            "EffAllPick...\n",
            "set_size = 5000 in [1000, 2000, 3000, 4000, 5000] : 4 / 5\n",
            "Preparing the sets\n",
            "Running...\n",
            "SC...\n",
            "Naive...\n",
            "AllPick...\n",
            "EffAllPick...\n",
            "set_size = 5000 in [1000, 2000, 3000, 4000, 5000] : 5 / 5\n"
          ]
        }
      ],
      "source": [
        "runs_per_n = 5\n",
        "N = len(points)\n",
        "set_sizes = [1000, 2000, 3000, 4000, 5000]\n",
        "\n",
        "result_df_times = {\"SetSize\": [], \"SC\": [], \"Naive\": [], \"AllPick\": [], \"EffAllPick\": []}\n",
        "result_df_counts = {\"SetSize\": [], \"SC\": [], \"Naive\": [], \"AllPick\": [], \"EffAllPick\": []}\n",
        "result_df_fairness = {\"SetSize\": [], \"SC\": [], \"Naive\": [], \"AllPick\": [], \"EffAllPick\": []}\n",
        "\n",
        "for set_size in set_sizes:\n",
        "    for i in range(runs_per_n):\n",
        "        print(\"Preparing the sets\")\n",
        "        \n",
        "        df = data.sample(n=set_size)\n",
        "        sets, colors = make_sets(df, cover_columns, points)\n",
        "\n",
        "        print(\"Running...\")\n",
        "        \n",
        "        # Run\n",
        "        result = run_all(N, sets, colors)\n",
        "\n",
        "        print(f\"set_size = {set_size} in {set_sizes} : {i + 1} / {runs_per_n}\")\n",
        "\n",
        "        # Generate Result Dataframe\n",
        "        result_df_times[\"SetSize\"].append(set_size)\n",
        "        result_df_counts[\"SetSize\"].append(set_size)\n",
        "        result_df_fairness[\"SetSize\"].append(set_size)\n",
        "        for key in result:\n",
        "            result_df_times[key].append(result[key][1])\n",
        "            result_df_counts[key].append(len(result[key][0]))\n",
        "            tmp = np.unique([colors[c] for c in result[key][0]], return_counts=True)[1]\n",
        "            if len(tmp) == 1:\n",
        "                result_df_fairness[key].append(0)\n",
        "            else:\n",
        "                result_df_fairness[key].append(np.min(tmp) / np.max(tmp))\n",
        "\n",
        "\n",
        "result_df_times = pd.DataFrame(result_df_times)\n",
        "result_df_counts = pd.DataFrame(result_df_counts)\n",
        "result_df_fairness = pd.DataFrame(result_df_fairness)"
      ]
    },
    {
      "cell_type": "markdown",
      "metadata": {
        "id": "01FeSgd8PfW2"
      },
      "source": [
        "## Generalized"
      ]
    },
    {
      "cell_type": "code",
      "execution_count": 10,
      "metadata": {
        "id": "ptAFXZThPrZT"
      },
      "outputs": [],
      "source": [
        "def gen_permute(list, per, constraint, position, all, starts):\n",
        "    if position == len(list):\n",
        "        all.append(per)\n",
        "    else:\n",
        "        for i in range(starts[constraint[position]], list[position]):\n",
        "            tmp = copy.deepcopy(per)\n",
        "            s = copy.deepcopy(starts)\n",
        "            s[constraint[position]] = i + 1\n",
        "            tmp[position] = i\n",
        "            gen_permute(list, tmp, constraint, position + 1, all, s)\n",
        "\n",
        "final = []\n",
        "# gen_permute([40, 40, 40, 40, 40], [0, 0, 0, 0, 0], [0, 1, 1, 1, 1], 0, final, [0, 0])\n",
        "# [101, 99, 99, 99, 99], [0, 0, 0, 0, 0], [0, 1, 1, 1, 1]\n",
        "# final"
      ]
    },
    {
      "cell_type": "code",
      "execution_count": 11,
      "metadata": {
        "colab": {
          "base_uri": "https://localhost:8080/"
        },
        "id": "ah8U1JTcbMQL",
        "outputId": "9175c0b8-8989-4cd4-d473-bd458829e521"
      },
      "outputs": [
        {
          "name": "stdout",
          "output_type": "stream",
          "text": [
            "[4, 5, 1]\n",
            "[4, 5, 2]\n",
            "[4, 5, 3]\n",
            "[4, 6, 1]\n",
            "[4, 6, 2]\n",
            "[4, 6, 3]\n",
            "[5, 6, 1]\n",
            "[5, 6, 2]\n",
            "[5, 6, 3]\n"
          ]
        }
      ],
      "source": [
        "from itertools import product, combinations\n",
        "\n",
        "def permute_eff(extended_colors, color_to_sets):\n",
        "    combs = [combinations(color_to_sets[c], extended_colors.count(c)) for c in range(len(color_to_sets.keys()))]\n",
        "    for pair in product(*combs):\n",
        "        a = []\n",
        "        [a.extend([s for s in p]) for p in pair]\n",
        "        print(a)\n",
        "\n",
        "permute_eff(extended_colors=[1, 0, 0], color_to_sets={1: {1, 2, 3}, 0: {4, 5, 6}})"
      ]
    },
    {
      "cell_type": "code",
      "execution_count": 12,
      "metadata": {
        "colab": {
          "base_uri": "https://localhost:8080/"
        },
        "id": "p0EbW3icRvHD",
        "outputId": "7e40b986-1f5b-4905-882f-df4129152924"
      },
      "outputs": [
        {
          "data": {
            "text/plain": [
              "[0, 1, 1, 2, 2, 2, 2, 2, 2, 2]"
            ]
          },
          "execution_count": 12,
          "metadata": {},
          "output_type": "execute_result"
        }
      ],
      "source": [
        "def get_extended_colors(ratios, L):\n",
        "    ratios = [int(x * L) for x in ratios]\n",
        "    gcd = math.gcd(*ratios)\n",
        "    ratios = [x // gcd for x in ratios]\n",
        "    # return ratios\n",
        "    extended_colors = []\n",
        "    for i, rate in enumerate(ratios):\n",
        "        extended_colors += [i for _ in range(rate)]\n",
        "\n",
        "    return extended_colors\n",
        "\n",
        "\n",
        "get_extended_colors([0.1, 0.2, 0.7], 1000)"
      ]
    },
    {
      "cell_type": "code",
      "execution_count": 13,
      "metadata": {
        "colab": {
          "base_uri": "https://localhost:8080/"
        },
        "id": "saFE7DWBO06U",
        "outputId": "f4ca909b-25c9-45f7-9b26-2eb2d1693a6f"
      },
      "outputs": [
        {
          "name": "stdout",
          "output_type": "stream",
          "text": [
            "Start of comb: ([2, 2, 4], [0, 0, 0], [0, 0, 1])\n",
            "end\n",
            "Start of comb: ([2, 2, 4], [0, 0, 0], [0, 0, 1])\n",
            "end\n"
          ]
        },
        {
          "data": {
            "text/plain": [
              "[0, 1, 2]"
            ]
          },
          "execution_count": 13,
          "metadata": {},
          "output_type": "execute_result"
        }
      ],
      "source": [
        "def generalized_all_pick(n, sets, colors, ratios):\n",
        "    # Pre-process\n",
        "    sets = copy.deepcopy(sets)\n",
        "    colors = copy.deepcopy(colors)\n",
        "    point_to_sets = get_point_to_set_hashmap(sets)\n",
        "    color_to_sets = get_color_to_set_hashmap(sets, colors)\n",
        "    cover = []\n",
        "    keys = [i for i in range(len(color_to_sets.keys()))]\n",
        "    sets_picked = [False for _ in range(len(sets))]\n",
        "    extend_colors = get_extended_colors(ratios, 1000)\n",
        "\n",
        "    # Main Loop\n",
        "    while True:\n",
        "        # Find Largest Pair\n",
        "        max_union = None\n",
        "        picked_pair = None\n",
        "        # for c in keys:\n",
        "        #     picked_pair += color_to_sets[c][:extend_colors.count(c)]\n",
        "\n",
        "        # max_union = len(set().union(*[sets[s] for s in picked_pair]))\n",
        "        # picked_pair = tuple(picked_pair)\n",
        "        # print(picked_pair, max_union, [sets[s] for s in picked_pair])\n",
        "        # break\n",
        "\n",
        "        all_permutes = []\n",
        "        print(f\"Start of comb: {[len(color_to_sets[i]) for i in extend_colors], [0 for _ in extend_colors], extend_colors}\")\n",
        "        # gen_permute(\n",
        "        #     [len(color_to_sets[i]) for i in extend_colors],\n",
        "        #     [0 for _ in extend_colors],\n",
        "        #     extend_colors,\n",
        "        #     0,\n",
        "        #     all_permutes,\n",
        "        #     [0 for _ in keys]\n",
        "        # )\n",
        "        # print(\"end\")\n",
        "\n",
        "        combs = [combinations(list(filter(lambda x: len(sets[x]) > 0, color_to_sets[c])), extend_colors.count(c)) for c in range(len(color_to_sets))]\n",
        "        print(\"end\")\n",
        "        updated = False\n",
        "        for pair in product(*combs):\n",
        "            tmp = []\n",
        "            [tmp.extend([s for s in p]) for p in pair]\n",
        "            pair = tmp\n",
        "            union = len(set().union(*[sets[s] for s in pair]))\n",
        "            if max_union is None or union > max_union:\n",
        "                updated = True\n",
        "                max_union = union\n",
        "                picked_pair = tuple(pair)\n",
        "\n",
        "        # Break if all points covered\n",
        "        if max_union == 0 or max_union is None:\n",
        "            break\n",
        "\n",
        "        # Not Found!\n",
        "        # if not updated:\n",
        "        #     return []\n",
        "\n",
        "        # Add to cover\n",
        "        cover += [*picked_pair]\n",
        "        for p in picked_pair:\n",
        "            sets_picked[p] = True\n",
        "\n",
        "        # Remove covered points\n",
        "        for p in picked_pair:\n",
        "            for covered_point in copy.deepcopy(sets[p]):\n",
        "                for i in point_to_sets[covered_point]:\n",
        "                    covered_point in sets[i] and sets[i].remove(covered_point)\n",
        "\n",
        "    return cover\n",
        "\n",
        "generalized_all_pick(n, sets, colors, [0.6, 0.3])"
      ]
    },
    {
      "cell_type": "code",
      "execution_count": 14,
      "metadata": {
        "colab": {
          "base_uri": "https://localhost:8080/"
        },
        "id": "toGOSWO0USfe",
        "outputId": "5d1957d1-c0e1-4168-8523-28d0d13d7214"
      },
      "outputs": [
        {
          "data": {
            "text/plain": [
              "[0, 1, 2]"
            ]
          },
          "execution_count": 14,
          "metadata": {},
          "output_type": "execute_result"
        }
      ],
      "source": [
        "def gen_LP(sets, point_to_sets, color_to_sets, n, m, covered, sets_picked, p_stars):\n",
        "    '''\n",
        "    max sum(y_j)\n",
        "        sum(x_i) >= y_j; for each y_j,\n",
        "        sum(x_i) = 1; for each color,\n",
        "        0 <= y_j <= 1,\n",
        "        0 <= x_i <= 1\n",
        "    '''\n",
        "    # [y_1, ..., y_n, x_1, ..., x_m]\n",
        "    c = [0 for i in range(m)] + [-1 for j in range(n)]\n",
        "    C1 = []\n",
        "    for j in range(n):\n",
        "        if covered[j]:\n",
        "            continue\n",
        "        c1 = [0 for i in range(m + n)]\n",
        "        s = point_to_sets[j]\n",
        "        c1[j + m] = 1\n",
        "        for i in s:\n",
        "            c1[i] = -1\n",
        "        C1.append(c1)\n",
        "\n",
        "    C2 = []\n",
        "    C3 = []\n",
        "    for color in range(len(color_to_sets.keys())):\n",
        "        # print(\"c: \", color)\n",
        "        c2 = [0 for i in range(m + n)]\n",
        "        c3 = [0 for i in range(m + n)]\n",
        "        s = color_to_sets[color]\n",
        "        for i in s:\n",
        "            if sets_picked[i]:\n",
        "                continue\n",
        "            c2[i] = 1\n",
        "            c3[i] = -1\n",
        "        C2.append(c2)\n",
        "        C3.append(c3)\n",
        "\n",
        "    b = [0 for _ in range(len(C1))] + [p for p in p_stars] + [-p for p in p_stars]\n",
        "    bounds = [(0, 1) for _ in range(n + m)]\n",
        "\n",
        "    A = C1 + C2 + C3\n",
        "\n",
        "    res = linprog(c=c, A_ub=A, b_ub=b, bounds=bounds)\n",
        "\n",
        "    return res\n",
        "\n",
        "def eff_gen_pick(n, sets, colors, ratios):\n",
        "    # Pre-process\n",
        "    sets = copy.deepcopy(sets)\n",
        "    colors = copy.deepcopy(colors)\n",
        "    point_to_sets = get_point_to_set_hashmap(sets)\n",
        "    color_to_sets = get_color_to_set_hashmap(sets, colors)\n",
        "    cover = []\n",
        "    points_covered = [False for _ in range(n)]\n",
        "    sets_picked = [False for _ in range(len(sets))]\n",
        "    m = len(sets)\n",
        "    keys = [i for i in range(len(color_to_sets.keys()))]\n",
        "    extend_colors = get_extended_colors(ratios, 1000)\n",
        "    p_stars = [extend_colors.count(color) for color in keys]\n",
        "    # print(p_stars)\n",
        "\n",
        "    # Main Loop\n",
        "    while True:\n",
        "        # Break if all points covered\n",
        "        if np.all(points_covered):\n",
        "            break\n",
        "\n",
        "        # Find Largest Pair\n",
        "        res = gen_LP(\n",
        "            sets,\n",
        "            point_to_sets,\n",
        "            color_to_sets,\n",
        "            n,\n",
        "            m,\n",
        "            points_covered,\n",
        "            sets_picked,\n",
        "            p_stars\n",
        "        )\n",
        "        if not res.success:\n",
        "            break\n",
        "        picked_pair = []\n",
        "        for i in keys:\n",
        "            # print(\"unique: \", np.unique(res.x[:m], return_counts=True), \"desired count: \", p_stars[i], \"0 count: \", np.unique(res.x[:m][color_to_sets[0]], return_counts=True), \"1 count: \", np.unique(res.x[:m][color_to_sets[1]], return_counts=True))\n",
        "            cans = [*np.random.choice(color_to_sets[i], size=p_stars[i], p=res.x[:m][color_to_sets[i]]/sum(res.x[:m][color_to_sets[i]]), replace=False)]\n",
        "            # print(np.unique(np.array(cans)), cans)\n",
        "            uni = np.unique(np.array(cans))\n",
        "            cans = [i for i in uni]\n",
        "            if len(uni) < p_stars[i]:\n",
        "                ind = 0\n",
        "                for s in color_to_sets[i]:\n",
        "                    if ind == p_stars[i] - len(uni):\n",
        "                        break\n",
        "                    if not sets_picked[s] and not s in picked_pair and not s in cans:\n",
        "                        cans.append(s)\n",
        "                        ind += 1\n",
        "\n",
        "            picked_pair += cans\n",
        "\n",
        "        # print(picked_pair)\n",
        "\n",
        "        # Add to cover\n",
        "        cover += [*picked_pair]\n",
        "        for p in picked_pair:\n",
        "            sets_picked[p] = True\n",
        "\n",
        "        # Remove covered points\n",
        "        for p in picked_pair:\n",
        "            for covered_point in copy.deepcopy(sets[p]):\n",
        "                points_covered[covered_point] = True\n",
        "                for i in point_to_sets[covered_point]:\n",
        "                    covered_point in sets[i] and sets[i].remove(covered_point)\n",
        "\n",
        "    return cover\n",
        "\n",
        "eff_gen_pick(n, sets, colors, [0.6, 0.3])"
      ]
    },
    {
      "cell_type": "code",
      "execution_count": 15,
      "metadata": {
        "colab": {
          "base_uri": "https://localhost:8080/"
        },
        "id": "gXRbVW7XSbjP",
        "outputId": "92797390-15ff-4fec-bd52-efc824ffa725"
      },
      "outputs": [
        {
          "data": {
            "text/plain": [
              "[4, 1, 2]"
            ]
          },
          "execution_count": 15,
          "metadata": {},
          "output_type": "execute_result"
        }
      ],
      "source": [
        "# Two color case!\n",
        "def naive_generalized(n, sets, colors, ratios):\n",
        "    # Pre-process\n",
        "    sets = copy.deepcopy(sets)\n",
        "    colors = copy.deepcopy(colors)\n",
        "    point_to_sets = get_point_to_set_hashmap(sets)\n",
        "    color_to_sets = get_color_to_set_hashmap(sets, colors)\n",
        "    unfair_cover = standard_set_cover(n, copy.deepcopy(sets))\n",
        "    extended = get_extended_colors(ratios, 1000)\n",
        "\n",
        "    # Add arbitrary sets from other colors\n",
        "    cover_colors, color_counts = np.unique([colors[s] for s in unfair_cover], return_counts=True)\n",
        "    # print(cover_colors)\n",
        "    # print(color_counts)\n",
        "    # print(extended)\n",
        "    min_rate, c = min([(extended.count(c) / color_counts[cover_colors.tolist().index(c)], c) for c in range(len(color_to_sets.keys()))], key=lambda x: x[0])\n",
        "    min_rate = math.ceil(min_rate)\n",
        "    extended *= int(math.lcm(extended.count(c), color_counts[cover_colors.tolist().index(c)]) / extended.count(c))\n",
        "\n",
        "    for color in color_to_sets.keys():\n",
        "        if color in cover_colors:\n",
        "            to_add = extended.count(color) - color_counts[cover_colors.tolist().index(color)]\n",
        "        else:\n",
        "            to_add = extended.count(color)\n",
        "\n",
        "        cand_sets = color_to_sets[color]\n",
        "        index = 0\n",
        "        while to_add > 0:\n",
        "            if cand_sets[index] not in unfair_cover:\n",
        "                unfair_cover.append(cand_sets[index])\n",
        "                to_add -= 1\n",
        "            index += 1\n",
        "\n",
        "    return unfair_cover\n",
        "\n",
        "naive_generalized(n, sets, colors, ratios=[0.3, 0.6])"
      ]
    },
    {
      "cell_type": "markdown",
      "metadata": {
        "id": "GOQD3uLKjj-f"
      },
      "source": [
        "## Opt"
      ]
    },
    {
      "cell_type": "markdown",
      "metadata": {
        "id": "4BUGcMvMjj-g"
      },
      "source": [
        "### Standard Solution"
      ]
    },
    {
      "cell_type": "code",
      "execution_count": 41,
      "metadata": {
        "colab": {
          "base_uri": "https://localhost:8080/"
        },
        "id": "YyqiC6K2jj-i",
        "outputId": "9bc148bc-1b58-4ca8-c94a-7648e4585d12"
      },
      "outputs": [
        {
          "data": {
            "text/plain": [
              "[1, 2, 4]"
            ]
          },
          "execution_count": 41,
          "metadata": {},
          "output_type": "execute_result"
        }
      ],
      "source": [
        "def opt_standard_solution(n, sets, max_length):\n",
        "    for cover_size in range(max_length + 1):\n",
        "        for cover in itertools.combinations(sets, cover_size):\n",
        "            union = set().union(*cover)\n",
        "            if len(union) == n:\n",
        "                return [sets.index(c) for c in cover]\n",
        "\n",
        "opt_standard_solution(n, sets, max_length=4)"
      ]
    },
    {
      "cell_type": "markdown",
      "metadata": {
        "id": "GJnPt6Egjj-j"
      },
      "source": [
        "### Fair Solution"
      ]
    },
    {
      "cell_type": "code",
      "execution_count": 42,
      "metadata": {
        "colab": {
          "base_uri": "https://localhost:8080/"
        },
        "id": "phurWPx6jj-j",
        "outputId": "37d50eb7-1ce3-4f36-eb97-ed7ab7c9b10f"
      },
      "outputs": [
        {
          "data": {
            "text/plain": [
              "[2, 3, 0, 1]"
            ]
          },
          "execution_count": 42,
          "metadata": {},
          "output_type": "execute_result"
        }
      ],
      "source": [
        "def opt_fair_solution(n, sets, colors, max_length):\n",
        "    color_to_sets = get_color_to_set_hashmap(sets, colors)\n",
        "    blue_sets = color_to_sets[0]\n",
        "    red_sets = color_to_sets[1]\n",
        "\n",
        "    for cover_size in range(2, max_length + 2, 2):\n",
        "        for blue in itertools.combinations(blue_sets, cover_size // 2):\n",
        "            for red in itertools.combinations(red_sets, cover_size // 2):\n",
        "                blue_subset = [sets[i] for i in blue]\n",
        "                red_subset = [sets[i] for i in red]\n",
        "                union = set().union(*blue_subset)\n",
        "                union = union.union(*red_subset)\n",
        "                if len(union) == n:\n",
        "                    return list(red + blue)\n",
        "\n",
        "opt_fair_solution(n, sets, colors, max_length=6)"
      ]
    },
    {
      "cell_type": "markdown",
      "metadata": {
        "id": "9fqS642GtxeM"
      },
      "source": [
        "# Generate Data"
      ]
    },
    {
      "cell_type": "code",
      "execution_count": 16,
      "metadata": {
        "id": "owiot8zOIIVt"
      },
      "outputs": [],
      "source": [
        "# Config\n",
        "N = 100 # Size of ground set\n",
        "M = 4000 # Number of sets\n",
        "K = 2 # Number of colors"
      ]
    },
    {
      "cell_type": "code",
      "execution_count": 17,
      "metadata": {
        "id": "sABFXRmh2gxs"
      },
      "outputs": [],
      "source": [
        "def generate(N, M, K, sizes_list, set_cover_dist, colors_prob):\n",
        "    ground_set = np.arange(N)\n",
        "    sets = []\n",
        "    colors = np.random.choice(np.arange(K), size=M, p=colors_prob)\n",
        "    for i1, size in enumerate(sizes_list):\n",
        "        # print(f\"Size {i1 + 1} / {len(sizes_list)}\")\n",
        "        if size <= 0:\n",
        "            size = 1\n",
        "        if size >= N:\n",
        "            size = N\n",
        "\n",
        "        # Generate a set on ground set\n",
        "        probs = [set_cover_dist.pdf(x) for x in ground_set]\n",
        "        probs = probs / sum(probs)\n",
        "        sets.append(np.random.choice(ground_set, p=probs, replace=False, size=int(size)))\n",
        "\n",
        "        # Cover all points\n",
        "        counts = [0 for _ in ground_set]\n",
        "\n",
        "    # Cover all uncovered points\n",
        "    for j in ground_set:\n",
        "        for s in sets:\n",
        "            if j in s:\n",
        "                counts[j] += 1\n",
        "    not_covered = []\n",
        "    for i, c in enumerate(counts):\n",
        "        if c == 0:\n",
        "            not_covered.append(i)\n",
        "    sets[-1] = np.int64(np.append(sets[-1], not_covered))\n",
        "\n",
        "    return ground_set, [set(s) for s in sets], colors\n",
        "\n",
        "# Distribution of size of sets\n",
        "# sizes_list = np.round(np.random.normal(loc=4, scale=1, size=M))\n",
        "# Distribution of sets coverage over ground set\n",
        "# set_cover_dist = scipy.stats.norm(loc=N/2, scale=2)\n",
        "# set_cover_dist = scipy.stats.uniform(loc=0, scale=N)\n",
        "# ground_set, sets, colors = generate(N, M, K, sizes_list, set_cover_dist, np.array([1, 1]) / 2)"
      ]
    },
    {
      "cell_type": "code",
      "execution_count": 45,
      "metadata": {
        "colab": {
          "base_uri": "https://localhost:8080/",
          "height": 542
        },
        "id": "SYz2_9Wp0DUV",
        "outputId": "a5b56530-d08d-4f9f-84b2-c5a0d134ccd8"
      },
      "outputs": [
        {
          "data": {
            "text/plain": [
              "Text(0.5, 9.444444444444438, 'Set Size')"
            ]
          },
          "execution_count": 45,
          "metadata": {},
          "output_type": "execute_result"
        },
        {
          "data": {
            "image/png": "[encoded data removed]",
            "text/plain": [
              "<Figure size 500x500 with 1 Axes>"
            ]
          },
          "metadata": {},
          "output_type": "display_data"
        }
      ],
      "source": [
        "sns.displot([len(s) for s in sets]);\n",
        "plt.xlabel(\"Set Size\")"
      ]
    },
    {
      "cell_type": "code",
      "execution_count": 46,
      "metadata": {
        "colab": {
          "base_uri": "https://localhost:8080/",
          "height": 482
        },
        "id": "d1YO_sre1I-I",
        "outputId": "69666da2-40f4-4ca3-92c4-d1b375271072"
      },
      "outputs": [
        {
          "ename": "NameError",
          "evalue": "name 'ground_set' is not defined",
          "output_type": "error",
          "traceback": [
            "\u001b[0;31m---------------------------------------------------------------------------\u001b[0m",
            "\u001b[0;31mNameError\u001b[0m                                 Traceback (most recent call last)",
            "Cell \u001b[0;32mIn[46], line 1\u001b[0m\n\u001b[0;32m----> 1\u001b[0m counts \u001b[38;5;241m=\u001b[39m [\u001b[38;5;241m0\u001b[39m \u001b[38;5;28;01mfor\u001b[39;00m _ \u001b[38;5;129;01min\u001b[39;00m \u001b[43mground_set\u001b[49m]\n\u001b[1;32m      3\u001b[0m \u001b[38;5;28;01mfor\u001b[39;00m j \u001b[38;5;129;01min\u001b[39;00m ground_set:\n\u001b[1;32m      4\u001b[0m     \u001b[38;5;28;01mfor\u001b[39;00m s \u001b[38;5;129;01min\u001b[39;00m sets:\n",
            "\u001b[0;31mNameError\u001b[0m: name 'ground_set' is not defined"
          ]
        }
      ],
      "source": [
        "counts = [0 for _ in ground_set]\n",
        "\n",
        "for j in ground_set:\n",
        "    for s in sets:\n",
        "        if j in s:\n",
        "            counts[j] += 1\n",
        "\n",
        "plt.plot(ground_set, counts)\n",
        "plt.xticks(ground_set)\n",
        "plt.ylim(-5, 1400)\n",
        "plt.ylabel(\"Number of sets covered by\")\n",
        "plt.xlabel(\"Point in ground set\")"
      ]
    },
    {
      "cell_type": "code",
      "execution_count": null,
      "metadata": {
        "colab": {
          "base_uri": "https://localhost:8080/",
          "height": 504
        },
        "id": "xQx5-fjOKRtC",
        "outputId": "02f27f9b-5942-42a0-9c37-c66dba28e6a5"
      },
      "outputs": [
        {
          "data": {
            "text/plain": [
              "(array([1000.,    0.,    0.,    0.,    0.,    0.,    0.,    0.,    0.,\n",
              "        1000.]),\n",
              " array([0. , 0.1, 0.2, 0.3, 0.4, 0.5, 0.6, 0.7, 0.8, 0.9, 1. ]),\n",
              " <BarContainer object of 10 artists>)"
            ]
          },
          "execution_count": 20,
          "metadata": {},
          "output_type": "execute_result"
        },
        {
          "data": {
            "image/png": "[encoded data removed]",
            "text/plain": [
              "<Figure size 640x480 with 1 Axes>"
            ]
          },
          "metadata": {},
          "output_type": "display_data"
        }
      ],
      "source": [
        "plt.hist(colors)"
      ]
    },
    {
      "cell_type": "markdown",
      "metadata": {
        "id": "KL5vxnaTIQVx"
      },
      "source": [
        "# Run Experiments"
      ]
    },
    {
      "cell_type": "code",
      "execution_count": 20,
      "metadata": {
        "id": "eiPKpNGiIROl"
      },
      "outputs": [],
      "source": [
        "def run_with_time(func, *args):\n",
        "    start_time = time.time()\n",
        "    res = func(*args)\n",
        "    run_time = time.time() - start_time\n",
        "    return (res, run_time)\n",
        "\n",
        "def run_all(n, sets, colors):\n",
        "    results = {}\n",
        "\n",
        "    print(\"SC...\")\n",
        "    results[\"SC\"] = run_with_time(standard_set_cover, n, copy.deepcopy(sets))\n",
        "    print(\"Naive...\")\n",
        "    results[\"Naive\"] = run_with_time(naive_fair_set_cover, n, copy.deepcopy(sets), copy.deepcopy(colors))\n",
        "    print(\"AllPick...\")\n",
        "    results[\"AllPick\"] = run_with_time(all_pick_fair_set_cover, n, copy.deepcopy(sets), copy.deepcopy(colors))\n",
        "    print(\"EffAllPick...\")\n",
        "    results[\"EffAllPick\"] = run_with_time(efficient_pick_set_cover, n, copy.deepcopy(sets), copy.deepcopy(colors))\n",
        "\n",
        "    return results"
      ]
    },
    {
      "cell_type": "code",
      "execution_count": null,
      "metadata": {
        "id": "6Gkvp4abITQj"
      },
      "outputs": [],
      "source": [
        "def run_experiments(M, K, N, runs_per_n, colors_prob, set_cover_dist, sizes_list):\n",
        "    result_df_times = {\"N\": [], \"SC\": [], \"Naive\": [], \"AllPick\": [], \"EffAllPick\": []}\n",
        "    result_df_counts = {\"N\": [], \"SC\": [], \"Naive\": [], \"AllPick\": [], \"EffAllPick\": []}\n",
        "    result_df_fairness = {\"N\": [], \"SC\": [], \"Naive\": [], \"AllPick\": [], \"EffAllPick\": []}\n",
        "\n",
        "    for n in N:\n",
        "        for i in range(runs_per_n):\n",
        "            print(\"Generating...\")\n",
        "            ground_set, sets, colors = generate(n, M, K,\n",
        "                                                colors_prob=colors_prob,\n",
        "                                                set_cover_dist=scipy.stats.norm(loc=n/2, scale=5),\n",
        "                                                sizes_list=sizes_list)\n",
        "            print(\"Running...\")\n",
        "            # Run\n",
        "            result = run_all(n, sets, colors)\n",
        "\n",
        "            print(f\"{n} in {N}: {i + 1} / {runs_per_n}\")\n",
        "\n",
        "            # Generate Result Dataframe\n",
        "            result_df_times[\"N\"].append(n)\n",
        "            result_df_counts[\"N\"].append(n)\n",
        "            result_df_fairness[\"N\"].append(n)\n",
        "            for key in result:\n",
        "                result_df_times[key].append(result[key][1])\n",
        "                result_df_counts[key].append(len(result[key][0]))\n",
        "                tmp = np.unique([colors[c] for c in result[key][0]], return_counts=True)[1]\n",
        "                if len(tmp) == 1:\n",
        "                    result_df_fairness[key].append(0)\n",
        "                else:\n",
        "                    result_df_fairness[key].append(np.min(tmp) / np.max(tmp))\n",
        "\n",
        "\n",
        "    result_df_times = pd.DataFrame(result_df_times)\n",
        "    result_df_counts = pd.DataFrame(result_df_counts)\n",
        "    result_df_fairness = pd.DataFrame(result_df_fairness)\n",
        "\n",
        "    return result_df_times, result_df_counts, result_df_fairness\n",
        "\n",
        "result_df_times, result_df_counts, result_df_fairness = run_experiments(M=4000, # Set size\n",
        "                                                                        K=2, # Number of colors\n",
        "                                                                        N = [20, 50, 100, 150, 200],\n",
        "                                                                        runs_per_n=5,\n",
        "                                                                        colors_prob=np.array([1, 1]) / 4,\n",
        "                                                                        sizes_list=np.round(np.random.normal(loc=4, scale=1, size=M)),\n",
        "                                                                        set_cover_dist=scipy.stats.norm(loc=N/2, scale=5))"
      ]
    },
    {
      "cell_type": "code",
      "execution_count": null,
      "metadata": {
        "id": "qBPdFtHlIjEo"
      },
      "outputs": [],
      "source": [
        "# result_df_times.to_csv(f\"result_df_generated_times_{K}_{4}_{1}_{5}_{0.3}_{0.3}_{0.3}.csv\") # K, loc, scale_1, scale_2\n",
        "result_df_counts.to_csv(f\"result_df_generated_counts_generalized_1000.csv\")\n",
        "# result_df_fairness.to_csv(f\"result_df_generated_fairness_{K}_{4}_{1}_{5}_{0.3}_{0.3}_{0.3}.csv\")"
      ]
    },
    {
      "cell_type": "code",
      "execution_count": 58,
      "metadata": {
        "id": "Nc8lB7hyIqid"
      },
      "outputs": [],
      "source": [
        "result_df_times = pd.read_csv(f\"result_df_times_popsim_10k.csv\", header=0, index_col=0)\n",
        "result_df_counts = pd.read_csv(f\"result_df_counts_popsim_10k.csv\", header=0, index_col=0)\n",
        "result_df_fairness = pd.read_csv(\"result_df_fairness_popsim_10k.csv\", header=0, index_col=0)\n",
        "\n",
        "# result_df_times = pd.read_csv(\"resuld_dfs/result_df_times_popsim_small.csv\", index_col=0)\n",
        "# result_df_counts = pd.read_csv(\"resuld_dfs/result_df_counts_popsim_small.csv\", index_col=0)\n",
        "# result_df_fairness = pd.read_csv(\"resuld_dfs/result_df_fairness_popsim_small.csv\", index_col=0)\n",
        "\n",
        "result_df_times_2 = pd.read_csv(f\"result_df_times_popsim_1k.csv\", header=0, index_col=0)\n",
        "result_df_counts_2 = pd.read_csv(f\"result_df_counts_popsim_1k.csv\", header=0, index_col=0)\n",
        "result_df_fairness_2 = pd.read_csv(\"result_df_fairness_popsim_1k.csv\", header=0, index_col=0)\n",
        "\n",
        "result_df_times = pd.concat([result_df_times, result_df_times_2])\n",
        "result_df_counts = pd.concat([result_df_counts, result_df_counts_2])\n",
        "result_df_fairness = pd.concat([result_df_fairness, result_df_fairness_2])\n",
        "# result_df_counts = pd.read_csv(\"../synthesized_experiments/result_df_counts_2_ratio.csv\", header=0, index_col=0)\n",
        "# result_df_times = pd.read_csv(\"../synthesized_experiments/result_df_times_2_ratio.csv\", header=0, index_col=0)\n",
        "# result_df_fairness = pd.read_csv(\"../synthesized_experiments/result_df_fairness_6_colors.csv\", header=0, index_col=0)\n",
        "# result_df_fairness_red = pd.read_csv(f\"../synthesized_experiments/result_df_fairness_red_2_ratio.csv\", header=0, index_col=0)\n",
        "# result_df_fairness_blue = pd.read_csv(\"../synthesized_experiments/result_df_fairness_blue_2_ratio.csv\", header=0, index_col=0)\n",
        "\n",
        "# result_df_times_naive = pd.read_csv(\"result_df_generated_times_generalized_1000_naive.csv\", header=0, index_col=0)\n",
        "# result_df_counts_naive = pd.read_csv(\"result_df_generated_counts_generalized_1000_naive.csv\", header=0, index_col=0)\n",
        "# result_df_fairness_red_naive = pd.read_csv(\"result_df_generated_fairness_red_generalized_1000_naive.csv\", header=0, index_col=0)\n",
        "# result_df_fairness_blue_naive = pd.read_csv(\"result_df_generated_fairness_blue_generalized_1000_naive.csv\", header=0, index_col=0)\n",
        "\n",
        "# result_df_times[\"Naive\"] = result_df_times_naive[\"Naive\"]\n",
        "# result_df_counts[\"Naive\"] = result_df_counts_naive[\"Naive\"]\n",
        "# result_df_fairness_red[\"Naive\"] = result_df_fairness_red_naive[\"Naive\"]\n",
        "# result_df_fairness_blue[\"Naive\"] = result_df_fairness_blue_naive[\"Naive\"]"
      ]
    },
    {
      "cell_type": "markdown",
      "metadata": {
        "id": "B5nCRMr9bKbK"
      },
      "source": [
        "## Generalized Experiments"
      ]
    },
    {
      "cell_type": "code",
      "execution_count": 21,
      "metadata": {
        "id": "jBTCi5qobMYO"
      },
      "outputs": [],
      "source": [
        "def run_all(n, sets, colors, ratios):\n",
        "    results = {}\n",
        "\n",
        "    print(\"SC...\")\n",
        "    results[\"SC\"] = run_with_time(standard_set_cover, n, copy.deepcopy(sets))\n",
        "    print(\"Greedy...\")\n",
        "    results[\"Greedy\"] = run_with_time(generalized_all_pick, n, copy.deepcopy(sets), copy.deepcopy(colors), copy.deepcopy(ratios))\n",
        "    print(\"EffGreedy...\")\n",
        "    results[\"EffGreedy\"] = run_with_time(eff_gen_pick, n, copy.deepcopy(sets), copy.deepcopy(colors), copy.deepcopy(ratios))\n",
        "    print(\"Naive...\")\n",
        "    results[\"Naive\"] = run_with_time(naive_generalized, n, copy.deepcopy(sets), copy.deepcopy(colors), copy.deepcopy(ratios))\n",
        "\n",
        "    return results"
      ]
    },
    {
      "cell_type": "code",
      "execution_count": 23,
      "metadata": {
        "id": "0mK5ijFIbObd"
      },
      "outputs": [
        {
          "name": "stdout",
          "output_type": "stream",
          "text": [
            "SC...\n",
            "Greedy...\n",
            "Start of comb: ([325, 325, 175], [0, 0, 0], [0, 0, 1])\n",
            "end\n",
            "Start of comb: ([325, 325, 175], [0, 0, 0], [0, 0, 1])\n",
            "end\n",
            "Start of comb: ([325, 325, 175], [0, 0, 0], [0, 0, 1])\n",
            "end\n",
            "Start of comb: ([325, 325, 175], [0, 0, 0], [0, 0, 1])\n",
            "end\n",
            "Start of comb: ([325, 325, 175], [0, 0, 0], [0, 0, 1])\n",
            "end\n",
            "EffGreedy...\n",
            "Naive...\n",
            "30 in [30]: 1 / 4\n",
            "SC: 30\n",
            "Greedy: 30\n",
            "EffGreedy: 30\n",
            "Naive: 30\n",
            "SC...\n",
            "Greedy...\n",
            "Start of comb: ([325, 325, 175], [0, 0, 0], [0, 0, 1])\n",
            "end\n",
            "Start of comb: ([325, 325, 175], [0, 0, 0], [0, 0, 1])\n",
            "end\n",
            "Start of comb: ([325, 325, 175], [0, 0, 0], [0, 0, 1])\n",
            "end\n",
            "Start of comb: ([325, 325, 175], [0, 0, 0], [0, 0, 1])\n",
            "end\n",
            "EffGreedy...\n",
            "Naive...\n",
            "30 in [30]: 2 / 4\n",
            "SC: 30\n",
            "Greedy: 28\n",
            "EffGreedy: 30\n",
            "Naive: 30\n",
            "SC...\n",
            "Greedy...\n",
            "Start of comb: ([324, 324, 176], [0, 0, 0], [0, 0, 1])\n",
            "end\n",
            "Start of comb: ([324, 324, 176], [0, 0, 0], [0, 0, 1])\n",
            "end\n",
            "Start of comb: ([324, 324, 176], [0, 0, 0], [0, 0, 1])\n",
            "end\n",
            "Start of comb: ([324, 324, 176], [0, 0, 0], [0, 0, 1])\n",
            "end\n",
            "Start of comb: ([324, 324, 176], [0, 0, 0], [0, 0, 1])\n",
            "end\n",
            "EffGreedy...\n",
            "Naive...\n",
            "30 in [30]: 3 / 4\n",
            "SC: 30\n",
            "Greedy: 30\n",
            "EffGreedy: 30\n",
            "Naive: 30\n",
            "SC...\n",
            "Greedy...\n",
            "Start of comb: ([318, 318, 182], [0, 0, 0], [0, 0, 1])\n",
            "end\n",
            "Start of comb: ([318, 318, 182], [0, 0, 0], [0, 0, 1])\n",
            "end\n",
            "Start of comb: ([318, 318, 182], [0, 0, 0], [0, 0, 1])\n",
            "end\n",
            "Start of comb: ([318, 318, 182], [0, 0, 0], [0, 0, 1])\n",
            "end\n",
            "Start of comb: ([318, 318, 182], [0, 0, 0], [0, 0, 1])\n",
            "end\n",
            "EffGreedy...\n",
            "Naive...\n",
            "30 in [30]: 4 / 4\n",
            "SC: 30\n",
            "Greedy: 30\n",
            "EffGreedy: 30\n",
            "Naive: 30\n",
            "Spent:  66.09814739227295\n"
          ]
        }
      ],
      "source": [
        "def run_experiments(M, K, N, runs_per_n, colors_prob, set_cover_dist, sizes_list, ratios):\n",
        "    result_df_times = {\"N\": [], \"Naive\": [], \"SC\": [], \"EffGreedy\": [], \"Greedy\": []}\n",
        "    result_df_counts = {\"N\": [], \"Naive\": [], \"SC\": [], \"EffGreedy\": [], \"Greedy\": []}\n",
        "    result_df_fairness_red = {\"N\": [], \"Naive\": [], \"SC\": [], \"EffGreedy\": [], \"Greedy\": []}\n",
        "    result_df_fairness_blue = {\"N\": [], \"Naive\": [], \"SC\": [], \"EffGreedy\": [], \"Greedy\": []}\n",
        "\n",
        "    for n in N:\n",
        "        start = time.time()\n",
        "        for i in range(runs_per_n):\n",
        "            ground_set, sets, colors = generate(n, M, K,\n",
        "                                                colors_prob=colors_prob,\n",
        "                                                set_cover_dist=scipy.stats.norm(loc=n/2, scale=5),\n",
        "                                                sizes_list=sizes_list)\n",
        "\n",
        "            # Run\n",
        "            result = run_all(n, sets, colors, ratios)\n",
        "\n",
        "            print(f\"{n} in {N}: {i + 1} / {runs_per_n}\")\n",
        "\n",
        "            # Generate Result Dataframe\n",
        "            result_df_times[\"N\"].append(n)\n",
        "            result_df_counts[\"N\"].append(n)\n",
        "            # result_df_fairness[\"N\"].append(n)\n",
        "            result_df_fairness_blue[\"N\"].append(n)\n",
        "            result_df_fairness_red[\"N\"].append(n)\n",
        "            for key in result:\n",
        "                res = list(set(result[key][0]))\n",
        "                result_df_times[key].append(result[key][1])\n",
        "                result_df_counts[key].append(len(res))\n",
        "                tmp = np.unique([colors[c] for c in res], return_counts=True)[1]\n",
        "\n",
        "                uni = []\n",
        "                for s in res:\n",
        "                    uni += sets[s]\n",
        "                print(f\"{key}: {len(set(uni))}\")\n",
        "\n",
        "                if len(tmp) <= 1:\n",
        "                    print(\"Less!\", key)\n",
        "                    result_df_fairness_red[key].append(0)\n",
        "                    result_df_fairness_blue[key].append(0)\n",
        "                else:\n",
        "                    tmp_red = [tmp[0] / len(res), ratios[0] / sum(ratios)]\n",
        "                    tmp_blue = [tmp[1] / len(res), ratios[1] / sum(ratios)]\n",
        "                    # result_df_fairness[key].append(np.min(tmp) / np.max(tmp))\n",
        "                    # result_df_fairness[key].append(tmp[0] / tmp[1])\n",
        "                    result_df_fairness_red[key].append(tmp[0] / len(res))\n",
        "                    result_df_fairness_blue[key].append(tmp[1] / len(res))\n",
        "\n",
        "        print(\"Spent: \", time.time() - start)\n",
        "\n",
        "\n",
        "    result_df_times = pd.DataFrame(result_df_times)\n",
        "    result_df_counts = pd.DataFrame(result_df_counts)\n",
        "    # result_df_fairness = pd.DataFrame(result_df_fairness)\n",
        "    result_df_fairness_red = pd.DataFrame(result_df_fairness_red)\n",
        "    result_df_fairness_blue = pd.DataFrame(result_df_fairness_blue)\n",
        "\n",
        "    return result_df_times, result_df_counts, result_df_fairness_red, result_df_fairness_blue\n",
        "\n",
        "result_df_times, result_df_counts, result_df_fairness_red, result_df_fairness_blue = run_experiments(M=500,\n",
        "                                                                        K = 2,\n",
        "                                                                        N = [30],\n",
        "                                                                        runs_per_n=4,\n",
        "                                                                        colors_prob=np.array([0.66, 0.34]),\n",
        "                                                                        sizes_list=np.round(np.random.normal(loc=4, scale=1, size=M)),\n",
        "                                                                        set_cover_dist=scipy.stats.norm(loc=10, scale=5),\n",
        "                                                                        ratios=[0.6, 0.3]\n",
        "                                                                        )"
      ]
    },
    {
      "cell_type": "code",
      "execution_count": 104,
      "metadata": {
        "id": "k2GceBZGcGqN"
      },
      "outputs": [
        {
          "ename": "NameError",
          "evalue": "name 'result_df_fairness_red' is not defined",
          "output_type": "error",
          "traceback": [
            "\u001b[0;31m---------------------------------------------------------------------------\u001b[0m",
            "\u001b[0;31mNameError\u001b[0m                                 Traceback (most recent call last)",
            "Cell \u001b[0;32mIn[104], line 4\u001b[0m\n\u001b[1;32m      2\u001b[0m result_df_times\u001b[38;5;241m.\u001b[39mto_csv(\u001b[38;5;124m\"\u001b[39m\u001b[38;5;124m../synthesized_experiments/result_df_times_1_ratio.csv\u001b[39m\u001b[38;5;124m\"\u001b[39m)\n\u001b[1;32m      3\u001b[0m result_df_counts\u001b[38;5;241m.\u001b[39mto_csv(\u001b[38;5;124m\"\u001b[39m\u001b[38;5;124m../synthesized_experiments/result_df_counts_1_ratio.csv\u001b[39m\u001b[38;5;124m\"\u001b[39m)\n\u001b[0;32m----> 4\u001b[0m \u001b[43mresult_df_fairness_red\u001b[49m\u001b[38;5;241m.\u001b[39mto_csv(\u001b[38;5;124m\"\u001b[39m\u001b[38;5;124m../synthesized_experiments/result_df_fairness_red_1_ratio.csv\u001b[39m\u001b[38;5;124m\"\u001b[39m)\n\u001b[1;32m      5\u001b[0m result_df_fairness_blue\u001b[38;5;241m.\u001b[39mto_csv(\u001b[38;5;124m\"\u001b[39m\u001b[38;5;124m../synthesized_experiments/result_df_fairness_blue_1_ratio.csv\u001b[39m\u001b[38;5;124m\"\u001b[39m)\n",
            "\u001b[0;31mNameError\u001b[0m: name 'result_df_fairness_red' is not defined"
          ]
        }
      ],
      "source": [
        "# Persist\n",
        "result_df_times.to_csv(\"../synthesized_experiments/result_df_times_1_ratio.csv\")\n",
        "result_df_counts.to_csv(\"../synthesized_experiments/result_df_counts_1_ratio.csv\")\n",
        "result_df_fairness_red.to_csv(\"../synthesized_experiments/result_df_fairness_red_1_ratio.csv\")\n",
        "result_df_fairness_blue.to_csv(\"../synthesized_experiments/result_df_fairness_blue_1_ratio.csv\")"
      ]
    },
    {
      "cell_type": "markdown",
      "metadata": {
        "id": "NBbvcWqbL5O0"
      },
      "source": [
        "# Visualization"
      ]
    },
    {
      "cell_type": "code",
      "execution_count": 53,
      "metadata": {
        "id": "Q1_dETi498Xw"
      },
      "outputs": [],
      "source": [
        "markers = {\n",
        "    \"SC\": \"o\",\n",
        "    \"Naive\": \"^\",\n",
        "    # \"AllPick\": \"s\"\n",
        "    \"EffAllPick\": \"*\"\n",
        "}\n",
        "\n",
        "names = {\n",
        "    \"SC\": \"SC\",\n",
        "    \"Naive\": \"Naive\",\n",
        "    # \"AllPick\": \"AllPick\"\n",
        "    \"EffAllPick\": \"EffAllPick\"\n",
        "}\n",
        "\n",
        "# algs = [\"SC\", \"Naive\", \"AllPick\", \"EffAllPick\"]\n",
        "algs = [\"SC\", \"Naive\", \"EffAllPick\"]\n",
        "\n",
        "# markers = {\n",
        "#     \"SC\": \"o\",\n",
        "#     \"Naive\": \"^\",\n",
        "#     \"EffGreedy\": \"s\"\n",
        "#     # \"EffAllPick\": \"*\"\n",
        "# }\n",
        "\n",
        "# names = {\n",
        "#     \"SC\": \"SC\",\n",
        "#     \"Naive\": \"Naive\",\n",
        "#     \"EffGreedy\": \"EffGFSC\"\n",
        "#     # \"EffAllPick\": \"EffAllPick\"\n",
        "# }\n",
        "\n",
        "# algs = [\"SC\", \"Naive\", \"EffGreedy\"]"
      ]
    },
    {
      "cell_type": "code",
      "execution_count": 39,
      "metadata": {},
      "outputs": [
        {
          "data": {
            "text/html": [
              "<div>\n",
              "<style scoped>\n",
              "    .dataframe tbody tr th:only-of-type {\n",
              "        vertical-align: middle;\n",
              "    }\n",
              "\n",
              "    .dataframe tbody tr th {\n",
              "        vertical-align: top;\n",
              "    }\n",
              "\n",
              "    .dataframe thead th {\n",
              "        text-align: right;\n",
              "    }\n",
              "</style>\n",
              "<table border=\"1\" class=\"dataframe\">\n",
              "  <thead>\n",
              "    <tr style=\"text-align: right;\">\n",
              "      <th></th>\n",
              "      <th>N</th>\n",
              "      <th>Naive</th>\n",
              "      <th>SC</th>\n",
              "      <th>EffGreedy</th>\n",
              "    </tr>\n",
              "  </thead>\n",
              "  <tbody>\n",
              "    <tr>\n",
              "      <th>0</th>\n",
              "      <td>50</td>\n",
              "      <td>0.123564</td>\n",
              "      <td>0.100180</td>\n",
              "      <td>0.127050</td>\n",
              "    </tr>\n",
              "    <tr>\n",
              "      <th>1</th>\n",
              "      <td>50</td>\n",
              "      <td>0.122977</td>\n",
              "      <td>0.045526</td>\n",
              "      <td>0.124970</td>\n",
              "    </tr>\n",
              "    <tr>\n",
              "      <th>2</th>\n",
              "      <td>50</td>\n",
              "      <td>0.181387</td>\n",
              "      <td>0.044996</td>\n",
              "      <td>0.131921</td>\n",
              "    </tr>\n",
              "    <tr>\n",
              "      <th>3</th>\n",
              "      <td>50</td>\n",
              "      <td>0.179859</td>\n",
              "      <td>0.045299</td>\n",
              "      <td>0.115058</td>\n",
              "    </tr>\n",
              "    <tr>\n",
              "      <th>4</th>\n",
              "      <td>50</td>\n",
              "      <td>0.183182</td>\n",
              "      <td>0.045752</td>\n",
              "      <td>0.125093</td>\n",
              "    </tr>\n",
              "  </tbody>\n",
              "</table>\n",
              "</div>"
            ],
            "text/plain": [
              "    N     Naive        SC  EffGreedy\n",
              "0  50  0.123564  0.100180   0.127050\n",
              "1  50  0.122977  0.045526   0.124970\n",
              "2  50  0.181387  0.044996   0.131921\n",
              "3  50  0.179859  0.045299   0.115058\n",
              "4  50  0.183182  0.045752   0.125093"
            ]
          },
          "execution_count": 39,
          "metadata": {},
          "output_type": "execute_result"
        }
      ],
      "source": [
        "result_df_times.head()"
      ]
    },
    {
      "cell_type": "code",
      "execution_count": 63,
      "metadata": {
        "colab": {
          "base_uri": "https://localhost:8080/",
          "height": 458
        },
        "id": "W1-ETU1395sh",
        "outputId": "9e330c4a-e0d7-42b9-e9c8-30f6db67e1c1"
      },
      "outputs": [
        {
          "data": {
            "image/png": "[encoded data removed]",
            "text/plain": [
              "<Figure size 640x480 with 1 Axes>"
            ]
          },
          "metadata": {},
          "output_type": "display_data"
        }
      ],
      "source": [
        "sns.set()\n",
        "\n",
        "import matplotlib.ticker as ticker\n",
        "\n",
        "means = result_df_times.groupby(\"SetSize\").mean()\n",
        "x = means.index.values\n",
        "stds = result_df_times.groupby(\"SetSize\").std()\n",
        "mins = result_df_times.groupby(\"SetSize\").min()\n",
        "maxs = result_df_times.groupby(\"SetSize\").max()\n",
        "\n",
        "x = x * 100\n",
        "\n",
        "for alg in algs:\n",
        "    if alg == \"SetSize\":\n",
        "        continue\n",
        "    if alg == \"EffAllPick\":\n",
        "        plt.plot(x, means[alg], label=names[alg], marker=markers[alg], linestyle='--', markersize=8, color=\"red\")\n",
        "        plt.fill_between(x, means[alg] - stds[alg] / 2, means[alg] + stds[alg] / 2, alpha=0.2, color=\"red\", linewidth=0.0)    \n",
        "    else:\n",
        "        plt.plot(x, means[alg], label=names[alg], marker=markers[alg], linestyle='--', markersize=8)\n",
        "        plt.fill_between(x, means[alg] - stds[alg] / 2, means[alg] + stds[alg] / 2, alpha=0.2)\n",
        "\n",
        "plt.legend(loc=\"upper left\", prop={'size': 12})\n",
        "plt.yscale(\"log\")\n",
        "plt.xlabel(\"N: Size of the ground set\", fontsize=17)\n",
        "plt.ylabel(\"Log of Time (Seconds)\", fontsize=17)\n",
        "\n",
        "def millions(x, pos):\n",
        "    return '%1.2fM' % (x * 1e-6)\n",
        "ax = plt.gca()\n",
        "ax.xaxis.set_major_formatter(ticker.FuncFormatter(millions))\n",
        "\n",
        "# plt.savefig('times_popsim_large.png', bbox_inches='tight')\n",
        "# plt.savefig('times_popsim_small.eps', format=\"eps\")\n",
        "\n",
        "plt.show()"
      ]
    },
    {
      "cell_type": "code",
      "execution_count": 66,
      "metadata": {
        "colab": {
          "base_uri": "https://localhost:8080/",
          "height": 464
        },
        "id": "lRbI9SJ5-COR",
        "outputId": "df504f84-29f2-406d-83e9-ebd4eddbd87f"
      },
      "outputs": [
        {
          "data": {
            "image/png": "[encoded data removed]",
            "text/plain": [
              "<Figure size 640x480 with 1 Axes>"
            ]
          },
          "metadata": {},
          "output_type": "display_data"
        }
      ],
      "source": [
        "d = copy.deepcopy(result_df_counts)\n",
        "\n",
        "sns.set()\n",
        "means = d.groupby(\"SetSize\").mean()\n",
        "x = means.index.values\n",
        "stds = d.groupby(\"SetSize\").std()\n",
        "mins = d.groupby(\"SetSize\").min()\n",
        "maxs = d.groupby(\"SetSize\").max()\n",
        "\n",
        "x = x * 100\n",
        "\n",
        "for alg in algs:\n",
        "    if alg == \"SetSize\":\n",
        "        continue\n",
        "    if alg == \"EffAllPick\":\n",
        "        plt.plot(x, means[alg], label=names[alg], marker=markers[alg], linestyle='--', markersize=8, color=\"red\")\n",
        "        plt.fill_between(x, means[alg] - stds[alg] / 2, means[alg] + stds[alg] / 2, alpha=0.2, color=\"red\", linewidth=0.0)    \n",
        "    else:\n",
        "        plt.plot(x, means[alg], label=names[alg], marker=markers[alg], linestyle='--', markersize=8)\n",
        "        plt.fill_between(x, means[alg] - stds[alg] / 3, means[alg] + stds[alg] / 3, alpha=0.2)\n",
        "\n",
        "plt.legend(loc=\"center right\", prop={'size': 12})\n",
        "plt.xlabel(\"N: Size of the ground set\", fontsize=17)\n",
        "plt.ylabel(\"Size of Output Cover\", fontsize=17)\n",
        "\n",
        "def millions(x, pos):\n",
        "    return '%1.2fM' % (x * 1e-6)\n",
        "ax = plt.gca()\n",
        "ax.xaxis.set_major_formatter(ticker.FuncFormatter(millions))\n",
        "\n",
        "# plt.savefig('counts_popsim_large.png', bbox_inches='tight')\n",
        "# plt.savefig('counts_popsim_small.eps', format=\"eps\")\n",
        "\n",
        "plt.show()"
      ]
    },
    {
      "cell_type": "code",
      "execution_count": 69,
      "metadata": {},
      "outputs": [
        {
          "data": {
            "image/png": "[encoded data removed]",
            "text/plain": [
              "<Figure size 640x480 with 1 Axes>"
            ]
          },
          "metadata": {},
          "output_type": "display_data"
        }
      ],
      "source": [
        "d = copy.deepcopy(result_df_fairness)\n",
        "sns.set()\n",
        "means = d.groupby(\"SetSize\").mean()\n",
        "x = means.index.values\n",
        "stds = d.groupby(\"SetSize\").std()\n",
        "mins = d.groupby(\"SetSize\").min()\n",
        "maxs = d.groupby(\"SetSize\").max()\n",
        "\n",
        "x = x * 100\n",
        "\n",
        "for alg in algs:\n",
        "    if alg == \"SetSize\":\n",
        "        continue\n",
        "    # if alg == \"AllPick\":\n",
        "    #     continue\n",
        "    if alg == \"EffAllPick\":\n",
        "        plt.plot(x, means[alg], label=names[alg], marker=markers[alg], linestyle='--', markersize=8, color=\"red\")\n",
        "        plt.fill_between(x, means[alg] - stds[alg] / 2, means[alg] + stds[alg] / 2, alpha=0.2, color=\"red\", linewidth=0.0)    \n",
        "    else:\n",
        "        plt.plot(x, means[alg], label=names[alg], marker=markers[alg], linestyle='--', markersize=8)\n",
        "        plt.fill_between(x, means[alg] - stds[alg] / 2, means[alg] + stds[alg] / 2, alpha=0.2)\n",
        "\n",
        "plt.legend(loc=\"center right\", prop={'size': 12})\n",
        "plt.xlabel(\"N: Size of the ground set\", fontsize=17)\n",
        "plt.ylabel(\"Fairness Ratio\", fontsize=17)\n",
        "\n",
        "def millions(x, pos):\n",
        "    return '%1.2fM' % (x * 1e-6)\n",
        "ax = plt.gca()\n",
        "ax.xaxis.set_major_formatter(ticker.FuncFormatter(millions))\n",
        "\n",
        "# plt.savefig('fairness_popsim_large.png', bbox_inches='tight')\n",
        "# plt.savefig('fairness_popsim_small.eps', format=\"eps\")\n",
        "\n",
        "plt.show()"
      ]
    },
    {
      "cell_type": "code",
      "execution_count": 48,
      "metadata": {
        "colab": {
          "base_uri": "https://localhost:8080/",
          "height": 458
        },
        "id": "QfS4EyjT-FKx",
        "outputId": "f92664fb-bd3c-4ec6-a8f8-34dc9bd8ac5f"
      },
      "outputs": [
        {
          "data": {
            "image/png": "[encoded data removed]",
            "text/plain": [
              "<Figure size 640x480 with 1 Axes>"
            ]
          },
          "metadata": {},
          "output_type": "display_data"
        }
      ],
      "source": [
        "# result_df_fairness_blue[result_df_fairness_blue[\"N\"] == 30][\"fairness\"]\n",
        "d = copy.deepcopy(result_df_fairness_red)\n",
        "d2 = copy.deepcopy(result_df_fairness_blue)\n",
        "\n",
        "for alg in d.keys():\n",
        "    d[alg] = d[alg] / 0.75\n",
        "    tmp = d2[alg] / (1 - 0.75)\n",
        "    d[alg] = np.minimum(tmp, d[alg])\n",
        "\n",
        "sns.set()\n",
        "means = d.groupby(\"N\").mean()\n",
        "x = means.index.values\n",
        "stds = d.groupby(\"N\").std()\n",
        "mins = d.groupby(\"N\").min()\n",
        "maxs = d.groupby(\"N\").max()\n",
        "\n",
        "\n",
        "for alg in algs:\n",
        "    if alg == \"N\":\n",
        "        continue\n",
        "    if alg == \"EffGreedy\":\n",
        "        plt.plot(x, means[alg], label=names[alg], marker=markers[alg], linestyle='--', markersize=8, color=\"red\")\n",
        "        plt.fill_between(x, means[alg] - stds[alg] / 2, means[alg] + stds[alg] / 2, alpha=0.2, color=\"red\", linewidth=0.0)    \n",
        "    else:\n",
        "        plt.plot(x, means[alg], label=names[alg], marker=markers[alg], linestyle='--', markersize=8)\n",
        "        plt.fill_between(x, means[alg] - stds[alg] / math.sqrt(20), means[alg] + stds[alg] / math.sqrt(20), alpha=0.2)\n",
        "\n",
        "plt.legend(loc=\"lower right\", prop={'size': 14})\n",
        "plt.xlabel(\"N: Size of the ground set\", fontsize=17)\n",
        "plt.ylabel(\"Fairness Ratio\", fontsize=17)\n",
        "\n",
        "# plt.savefig('fairness_2_ratio_extended.png', bbox_inches='tight')\n",
        "# plt.savefig('fairness_2_ratio_extended.eps', format=\"eps\")\n",
        "\n",
        "plt.show()"
      ]
    }
  ],
  "metadata": {
    "colab": {
      "provenance": [],
      "toc_visible": true
    },
    "kernelspec": {
      "display_name": "venv",
      "language": "python",
      "name": "python3"
    },
    "language_info": {
      "codemirror_mode": {
        "name": "ipython",
        "version": 3
      },
      "file_extension": ".py",
      "mimetype": "text/x-python",
      "name": "python",
      "nbconvert_exporter": "python",
      "pygments_lexer": "ipython3",
      "version": "3.11.1"
    }
  },
  "nbformat": 4,
  "nbformat_minor": 0
}
